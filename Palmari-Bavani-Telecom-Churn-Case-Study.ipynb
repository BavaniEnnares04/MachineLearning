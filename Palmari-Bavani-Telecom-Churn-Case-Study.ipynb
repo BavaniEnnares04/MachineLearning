{
 "cells": [
  {
   "cell_type": "markdown",
   "metadata": {},
   "source": [
    "# Telecom Case Study\n",
    "\n",
    "### Problem Statement\n",
    "\n",
    "In the telecom industry, customers are able to choose from multiple service providers and actively switch from one operator to another. \n",
    "To reduce customer churn, telecom companies need to predict which customers are at high risk of churn.\n",
    "\n",
    "In this project, we will analyse customer-level data of a leading telecom firm, build predictive models to identify customers at high risk of churn and identify the main indicators of churn."
   ]
  },
  {
   "cell_type": "markdown",
   "metadata": {},
   "source": [
    "## Step 1: Reading and Understanding the data"
   ]
  },
  {
   "cell_type": "code",
   "execution_count": 1,
   "metadata": {},
   "outputs": [],
   "source": [
    "# First import the Pandas,NumPy and the required packages\n",
    "%matplotlib inline\n",
    "import numpy as np\n",
    "import pandas as pd\n",
    "import matplotlib\n",
    "import matplotlib.pyplot as plt\n",
    "import seaborn as sns\n",
    "import warnings \n",
    "warnings.filterwarnings('ignore')"
   ]
  },
  {
   "cell_type": "code",
   "execution_count": 2,
   "metadata": {},
   "outputs": [],
   "source": [
    "pd.set_option('display.expand_frame_repr', False)"
   ]
  },
  {
   "cell_type": "code",
   "execution_count": 3,
   "metadata": {},
   "outputs": [
    {
     "data": {
      "text/html": [
       "<div>\n",
       "<style scoped>\n",
       "    .dataframe tbody tr th:only-of-type {\n",
       "        vertical-align: middle;\n",
       "    }\n",
       "\n",
       "    .dataframe tbody tr th {\n",
       "        vertical-align: top;\n",
       "    }\n",
       "\n",
       "    .dataframe thead th {\n",
       "        text-align: right;\n",
       "    }\n",
       "</style>\n",
       "<table border=\"1\" class=\"dataframe\">\n",
       "  <thead>\n",
       "    <tr style=\"text-align: right;\">\n",
       "      <th></th>\n",
       "      <th>mobile_number</th>\n",
       "      <th>circle_id</th>\n",
       "      <th>loc_og_t2o_mou</th>\n",
       "      <th>std_og_t2o_mou</th>\n",
       "      <th>loc_ic_t2o_mou</th>\n",
       "      <th>last_date_of_month_6</th>\n",
       "      <th>last_date_of_month_7</th>\n",
       "      <th>last_date_of_month_8</th>\n",
       "      <th>last_date_of_month_9</th>\n",
       "      <th>arpu_6</th>\n",
       "      <th>...</th>\n",
       "      <th>sachet_3g_9</th>\n",
       "      <th>fb_user_6</th>\n",
       "      <th>fb_user_7</th>\n",
       "      <th>fb_user_8</th>\n",
       "      <th>fb_user_9</th>\n",
       "      <th>aon</th>\n",
       "      <th>aug_vbc_3g</th>\n",
       "      <th>jul_vbc_3g</th>\n",
       "      <th>jun_vbc_3g</th>\n",
       "      <th>sep_vbc_3g</th>\n",
       "    </tr>\n",
       "  </thead>\n",
       "  <tbody>\n",
       "    <tr>\n",
       "      <th>0</th>\n",
       "      <td>7000842753</td>\n",
       "      <td>109</td>\n",
       "      <td>0.0</td>\n",
       "      <td>0.0</td>\n",
       "      <td>0.0</td>\n",
       "      <td>6/30/2014</td>\n",
       "      <td>7/31/2014</td>\n",
       "      <td>8/31/2014</td>\n",
       "      <td>9/30/2014</td>\n",
       "      <td>197.385</td>\n",
       "      <td>...</td>\n",
       "      <td>0</td>\n",
       "      <td>1.0</td>\n",
       "      <td>1.0</td>\n",
       "      <td>1.0</td>\n",
       "      <td>NaN</td>\n",
       "      <td>968</td>\n",
       "      <td>30.4</td>\n",
       "      <td>0.0</td>\n",
       "      <td>101.20</td>\n",
       "      <td>3.58</td>\n",
       "    </tr>\n",
       "    <tr>\n",
       "      <th>1</th>\n",
       "      <td>7001865778</td>\n",
       "      <td>109</td>\n",
       "      <td>0.0</td>\n",
       "      <td>0.0</td>\n",
       "      <td>0.0</td>\n",
       "      <td>6/30/2014</td>\n",
       "      <td>7/31/2014</td>\n",
       "      <td>8/31/2014</td>\n",
       "      <td>9/30/2014</td>\n",
       "      <td>34.047</td>\n",
       "      <td>...</td>\n",
       "      <td>0</td>\n",
       "      <td>NaN</td>\n",
       "      <td>1.0</td>\n",
       "      <td>1.0</td>\n",
       "      <td>NaN</td>\n",
       "      <td>1006</td>\n",
       "      <td>0.0</td>\n",
       "      <td>0.0</td>\n",
       "      <td>0.00</td>\n",
       "      <td>0.00</td>\n",
       "    </tr>\n",
       "    <tr>\n",
       "      <th>2</th>\n",
       "      <td>7001625959</td>\n",
       "      <td>109</td>\n",
       "      <td>0.0</td>\n",
       "      <td>0.0</td>\n",
       "      <td>0.0</td>\n",
       "      <td>6/30/2014</td>\n",
       "      <td>7/31/2014</td>\n",
       "      <td>8/31/2014</td>\n",
       "      <td>9/30/2014</td>\n",
       "      <td>167.690</td>\n",
       "      <td>...</td>\n",
       "      <td>0</td>\n",
       "      <td>NaN</td>\n",
       "      <td>NaN</td>\n",
       "      <td>NaN</td>\n",
       "      <td>1.0</td>\n",
       "      <td>1103</td>\n",
       "      <td>0.0</td>\n",
       "      <td>0.0</td>\n",
       "      <td>4.17</td>\n",
       "      <td>0.00</td>\n",
       "    </tr>\n",
       "    <tr>\n",
       "      <th>3</th>\n",
       "      <td>7001204172</td>\n",
       "      <td>109</td>\n",
       "      <td>0.0</td>\n",
       "      <td>0.0</td>\n",
       "      <td>0.0</td>\n",
       "      <td>6/30/2014</td>\n",
       "      <td>7/31/2014</td>\n",
       "      <td>8/31/2014</td>\n",
       "      <td>9/30/2014</td>\n",
       "      <td>221.338</td>\n",
       "      <td>...</td>\n",
       "      <td>0</td>\n",
       "      <td>NaN</td>\n",
       "      <td>NaN</td>\n",
       "      <td>NaN</td>\n",
       "      <td>NaN</td>\n",
       "      <td>2491</td>\n",
       "      <td>0.0</td>\n",
       "      <td>0.0</td>\n",
       "      <td>0.00</td>\n",
       "      <td>0.00</td>\n",
       "    </tr>\n",
       "    <tr>\n",
       "      <th>4</th>\n",
       "      <td>7000142493</td>\n",
       "      <td>109</td>\n",
       "      <td>0.0</td>\n",
       "      <td>0.0</td>\n",
       "      <td>0.0</td>\n",
       "      <td>6/30/2014</td>\n",
       "      <td>7/31/2014</td>\n",
       "      <td>8/31/2014</td>\n",
       "      <td>9/30/2014</td>\n",
       "      <td>261.636</td>\n",
       "      <td>...</td>\n",
       "      <td>0</td>\n",
       "      <td>0.0</td>\n",
       "      <td>NaN</td>\n",
       "      <td>NaN</td>\n",
       "      <td>NaN</td>\n",
       "      <td>1526</td>\n",
       "      <td>0.0</td>\n",
       "      <td>0.0</td>\n",
       "      <td>0.00</td>\n",
       "      <td>0.00</td>\n",
       "    </tr>\n",
       "  </tbody>\n",
       "</table>\n",
       "<p>5 rows × 226 columns</p>\n",
       "</div>"
      ],
      "text/plain": [
       "   mobile_number  circle_id  loc_og_t2o_mou  std_og_t2o_mou  loc_ic_t2o_mou last_date_of_month_6 last_date_of_month_7 last_date_of_month_8 last_date_of_month_9   arpu_6  ...  sachet_3g_9  fb_user_6  fb_user_7  fb_user_8  fb_user_9   aon  aug_vbc_3g  jul_vbc_3g  jun_vbc_3g  sep_vbc_3g\n",
       "0     7000842753        109             0.0             0.0             0.0            6/30/2014            7/31/2014            8/31/2014            9/30/2014  197.385  ...            0        1.0        1.0        1.0        NaN   968        30.4         0.0      101.20        3.58\n",
       "1     7001865778        109             0.0             0.0             0.0            6/30/2014            7/31/2014            8/31/2014            9/30/2014   34.047  ...            0        NaN        1.0        1.0        NaN  1006         0.0         0.0        0.00        0.00\n",
       "2     7001625959        109             0.0             0.0             0.0            6/30/2014            7/31/2014            8/31/2014            9/30/2014  167.690  ...            0        NaN        NaN        NaN        1.0  1103         0.0         0.0        4.17        0.00\n",
       "3     7001204172        109             0.0             0.0             0.0            6/30/2014            7/31/2014            8/31/2014            9/30/2014  221.338  ...            0        NaN        NaN        NaN        NaN  2491         0.0         0.0        0.00        0.00\n",
       "4     7000142493        109             0.0             0.0             0.0            6/30/2014            7/31/2014            8/31/2014            9/30/2014  261.636  ...            0        0.0        NaN        NaN        NaN  1526         0.0         0.0        0.00        0.00\n",
       "\n",
       "[5 rows x 226 columns]"
      ]
     },
     "execution_count": 3,
     "metadata": {},
     "output_type": "execute_result"
    }
   ],
   "source": [
    "telecom_churn_df = pd.read_csv('telecom_churn_data.csv')\n",
    "telecom_churn_df.head()"
   ]
  },
  {
   "cell_type": "code",
   "execution_count": 4,
   "metadata": {},
   "outputs": [
    {
     "data": {
      "text/plain": [
       "(99999, 226)"
      ]
     },
     "execution_count": 4,
     "metadata": {},
     "output_type": "execute_result"
    }
   ],
   "source": [
    "telecom_churn_df.shape"
   ]
  },
  {
   "cell_type": "markdown",
   "metadata": {},
   "source": [
    "####  Removing columns with low variance "
   ]
  },
  {
   "cell_type": "code",
   "execution_count": 5,
   "metadata": {},
   "outputs": [],
   "source": [
    "telecom_churn_df.drop(['circle_id','last_date_of_month_6','last_date_of_month_7','last_date_of_month_8','last_date_of_month_9'],axis=1,inplace=True)"
   ]
  },
  {
   "cell_type": "markdown",
   "metadata": {},
   "source": [
    "#### Imputing 0 values in Recharge Column. "
   ]
  },
  {
   "cell_type": "code",
   "execution_count": 6,
   "metadata": {},
   "outputs": [
    {
     "data": {
      "text/html": [
       "<div>\n",
       "<style scoped>\n",
       "    .dataframe tbody tr th:only-of-type {\n",
       "        vertical-align: middle;\n",
       "    }\n",
       "\n",
       "    .dataframe tbody tr th {\n",
       "        vertical-align: top;\n",
       "    }\n",
       "\n",
       "    .dataframe thead th {\n",
       "        text-align: right;\n",
       "    }\n",
       "</style>\n",
       "<table border=\"1\" class=\"dataframe\">\n",
       "  <thead>\n",
       "    <tr style=\"text-align: right;\">\n",
       "      <th></th>\n",
       "      <th>total_rech_data_6</th>\n",
       "      <th>total_rech_data_7</th>\n",
       "      <th>total_rech_data_8</th>\n",
       "      <th>total_rech_data_9</th>\n",
       "      <th>max_rech_data_6</th>\n",
       "      <th>max_rech_data_7</th>\n",
       "      <th>max_rech_data_8</th>\n",
       "      <th>max_rech_data_9</th>\n",
       "      <th>av_rech_amt_data_6</th>\n",
       "      <th>av_rech_amt_data_7</th>\n",
       "      <th>av_rech_amt_data_8</th>\n",
       "      <th>av_rech_amt_data_9</th>\n",
       "    </tr>\n",
       "  </thead>\n",
       "  <tbody>\n",
       "    <tr>\n",
       "      <th>count</th>\n",
       "      <td>25153.000000</td>\n",
       "      <td>25571.000000</td>\n",
       "      <td>26339.000000</td>\n",
       "      <td>25922.000000</td>\n",
       "      <td>25153.000000</td>\n",
       "      <td>25571.000000</td>\n",
       "      <td>26339.000000</td>\n",
       "      <td>25922.00000</td>\n",
       "      <td>25153.000000</td>\n",
       "      <td>25571.000000</td>\n",
       "      <td>26339.000000</td>\n",
       "      <td>25922.000000</td>\n",
       "    </tr>\n",
       "    <tr>\n",
       "      <th>mean</th>\n",
       "      <td>2.463802</td>\n",
       "      <td>2.666419</td>\n",
       "      <td>2.651999</td>\n",
       "      <td>2.441170</td>\n",
       "      <td>126.393392</td>\n",
       "      <td>126.729459</td>\n",
       "      <td>125.717301</td>\n",
       "      <td>124.94144</td>\n",
       "      <td>192.600982</td>\n",
       "      <td>200.981292</td>\n",
       "      <td>197.526489</td>\n",
       "      <td>192.734315</td>\n",
       "    </tr>\n",
       "    <tr>\n",
       "      <th>std</th>\n",
       "      <td>2.789128</td>\n",
       "      <td>3.031593</td>\n",
       "      <td>3.074987</td>\n",
       "      <td>2.516339</td>\n",
       "      <td>108.477235</td>\n",
       "      <td>109.765267</td>\n",
       "      <td>109.437851</td>\n",
       "      <td>111.36376</td>\n",
       "      <td>192.646318</td>\n",
       "      <td>196.791224</td>\n",
       "      <td>191.301305</td>\n",
       "      <td>188.400286</td>\n",
       "    </tr>\n",
       "    <tr>\n",
       "      <th>min</th>\n",
       "      <td>1.000000</td>\n",
       "      <td>1.000000</td>\n",
       "      <td>1.000000</td>\n",
       "      <td>1.000000</td>\n",
       "      <td>1.000000</td>\n",
       "      <td>1.000000</td>\n",
       "      <td>1.000000</td>\n",
       "      <td>1.00000</td>\n",
       "      <td>1.000000</td>\n",
       "      <td>0.500000</td>\n",
       "      <td>0.500000</td>\n",
       "      <td>1.000000</td>\n",
       "    </tr>\n",
       "    <tr>\n",
       "      <th>25%</th>\n",
       "      <td>1.000000</td>\n",
       "      <td>1.000000</td>\n",
       "      <td>1.000000</td>\n",
       "      <td>1.000000</td>\n",
       "      <td>25.000000</td>\n",
       "      <td>25.000000</td>\n",
       "      <td>25.000000</td>\n",
       "      <td>25.00000</td>\n",
       "      <td>82.000000</td>\n",
       "      <td>92.000000</td>\n",
       "      <td>87.000000</td>\n",
       "      <td>69.000000</td>\n",
       "    </tr>\n",
       "    <tr>\n",
       "      <th>50%</th>\n",
       "      <td>1.000000</td>\n",
       "      <td>1.000000</td>\n",
       "      <td>1.000000</td>\n",
       "      <td>2.000000</td>\n",
       "      <td>145.000000</td>\n",
       "      <td>145.000000</td>\n",
       "      <td>145.000000</td>\n",
       "      <td>145.00000</td>\n",
       "      <td>154.000000</td>\n",
       "      <td>154.000000</td>\n",
       "      <td>154.000000</td>\n",
       "      <td>164.000000</td>\n",
       "    </tr>\n",
       "    <tr>\n",
       "      <th>75%</th>\n",
       "      <td>3.000000</td>\n",
       "      <td>3.000000</td>\n",
       "      <td>3.000000</td>\n",
       "      <td>3.000000</td>\n",
       "      <td>177.000000</td>\n",
       "      <td>177.000000</td>\n",
       "      <td>179.000000</td>\n",
       "      <td>179.00000</td>\n",
       "      <td>252.000000</td>\n",
       "      <td>252.000000</td>\n",
       "      <td>252.000000</td>\n",
       "      <td>252.000000</td>\n",
       "    </tr>\n",
       "    <tr>\n",
       "      <th>max</th>\n",
       "      <td>61.000000</td>\n",
       "      <td>54.000000</td>\n",
       "      <td>60.000000</td>\n",
       "      <td>84.000000</td>\n",
       "      <td>1555.000000</td>\n",
       "      <td>1555.000000</td>\n",
       "      <td>1555.000000</td>\n",
       "      <td>1555.00000</td>\n",
       "      <td>7546.000000</td>\n",
       "      <td>4365.000000</td>\n",
       "      <td>4076.000000</td>\n",
       "      <td>4061.000000</td>\n",
       "    </tr>\n",
       "  </tbody>\n",
       "</table>\n",
       "</div>"
      ],
      "text/plain": [
       "       total_rech_data_6  total_rech_data_7  total_rech_data_8  total_rech_data_9  max_rech_data_6  max_rech_data_7  max_rech_data_8  max_rech_data_9  av_rech_amt_data_6  av_rech_amt_data_7  av_rech_amt_data_8  av_rech_amt_data_9\n",
       "count       25153.000000       25571.000000       26339.000000       25922.000000     25153.000000     25571.000000     26339.000000      25922.00000        25153.000000        25571.000000        26339.000000        25922.000000\n",
       "mean            2.463802           2.666419           2.651999           2.441170       126.393392       126.729459       125.717301        124.94144          192.600982          200.981292          197.526489          192.734315\n",
       "std             2.789128           3.031593           3.074987           2.516339       108.477235       109.765267       109.437851        111.36376          192.646318          196.791224          191.301305          188.400286\n",
       "min             1.000000           1.000000           1.000000           1.000000         1.000000         1.000000         1.000000          1.00000            1.000000            0.500000            0.500000            1.000000\n",
       "25%             1.000000           1.000000           1.000000           1.000000        25.000000        25.000000        25.000000         25.00000           82.000000           92.000000           87.000000           69.000000\n",
       "50%             1.000000           1.000000           1.000000           2.000000       145.000000       145.000000       145.000000        145.00000          154.000000          154.000000          154.000000          164.000000\n",
       "75%             3.000000           3.000000           3.000000           3.000000       177.000000       177.000000       179.000000        179.00000          252.000000          252.000000          252.000000          252.000000\n",
       "max            61.000000          54.000000          60.000000          84.000000      1555.000000      1555.000000      1555.000000       1555.00000         7546.000000         4365.000000         4076.000000         4061.000000"
      ]
     },
     "execution_count": 6,
     "metadata": {},
     "output_type": "execute_result"
    }
   ],
   "source": [
    "recharge_cols = ['total_rech_data_6', 'total_rech_data_7', 'total_rech_data_8', 'total_rech_data_9',\n",
    "                 'max_rech_data_6', 'max_rech_data_7', 'max_rech_data_8', 'max_rech_data_9',\n",
    "                 'av_rech_amt_data_6', 'av_rech_amt_data_7', 'av_rech_amt_data_8', 'av_rech_amt_data_9',\n",
    "                 ]\n",
    "\n",
    "telecom_churn_df[recharge_cols].describe(include='all')"
   ]
  },
  {
   "cell_type": "code",
   "execution_count": 7,
   "metadata": {},
   "outputs": [],
   "source": [
    "zero_impute = ['total_rech_data_6', 'total_rech_data_7', 'total_rech_data_8', 'total_rech_data_9',\n",
    "        'av_rech_amt_data_6', 'av_rech_amt_data_7', 'av_rech_amt_data_8', 'av_rech_amt_data_9',\n",
    "        'max_rech_data_6', 'max_rech_data_7', 'max_rech_data_8', 'max_rech_data_9','total_ic_mou_9','total_og_mou_9','vol_2g_mb_9','vol_3g_mb_9'\n",
    "       ]"
   ]
  },
  {
   "cell_type": "code",
   "execution_count": 8,
   "metadata": {},
   "outputs": [],
   "source": [
    "# impute missing values with 0\n",
    "telecom_churn_df[zero_impute] = telecom_churn_df[zero_impute].apply(lambda x: x.fillna(0))"
   ]
  },
  {
   "cell_type": "markdown",
   "metadata": {},
   "source": [
    "#### Imputing -1 values in Categorical Columns night_pck_user and fb_user "
   ]
  },
  {
   "cell_type": "code",
   "execution_count": 9,
   "metadata": {},
   "outputs": [],
   "source": [
    "cat_cols = ['night_pck_user_6', 'night_pck_user_7', 'night_pck_user_8', 'night_pck_user_9',\n",
    "       'fb_user_6','fb_user_7','fb_user_8','fb_user_9']"
   ]
  },
  {
   "cell_type": "code",
   "execution_count": 10,
   "metadata": {},
   "outputs": [],
   "source": [
    "# impute missing values with -1\n",
    "telecom_churn_df[cat_cols] = telecom_churn_df[cat_cols].apply(lambda x: x.fillna(-1))"
   ]
  },
  {
   "cell_type": "code",
   "execution_count": 11,
   "metadata": {},
   "outputs": [
    {
     "data": {
      "text/plain": [
       "(99999, 221)"
      ]
     },
     "execution_count": 11,
     "metadata": {},
     "output_type": "execute_result"
    }
   ],
   "source": [
    "telecom_churn_df.shape"
   ]
  },
  {
   "cell_type": "markdown",
   "metadata": {},
   "source": [
    "##### Removing Columns with more than 70% null value."
   ]
  },
  {
   "cell_type": "code",
   "execution_count": 12,
   "metadata": {},
   "outputs": [],
   "source": [
    "df = telecom_churn_df.isnull().sum()*100/telecom_churn_df.shape[0] >70"
   ]
  },
  {
   "cell_type": "code",
   "execution_count": 13,
   "metadata": {},
   "outputs": [
    {
     "data": {
      "text/plain": [
       "date_of_last_rech_data_6    True\n",
       "date_of_last_rech_data_7    True\n",
       "date_of_last_rech_data_8    True\n",
       "date_of_last_rech_data_9    True\n",
       "count_rech_2g_6             True\n",
       "count_rech_2g_7             True\n",
       "count_rech_2g_8             True\n",
       "count_rech_2g_9             True\n",
       "count_rech_3g_6             True\n",
       "count_rech_3g_7             True\n",
       "count_rech_3g_8             True\n",
       "count_rech_3g_9             True\n",
       "arpu_3g_6                   True\n",
       "arpu_3g_7                   True\n",
       "arpu_3g_8                   True\n",
       "arpu_3g_9                   True\n",
       "arpu_2g_6                   True\n",
       "arpu_2g_7                   True\n",
       "arpu_2g_8                   True\n",
       "arpu_2g_9                   True\n",
       "dtype: bool"
      ]
     },
     "execution_count": 13,
     "metadata": {},
     "output_type": "execute_result"
    }
   ],
   "source": [
    "df[df]"
   ]
  },
  {
   "cell_type": "code",
   "execution_count": 14,
   "metadata": {},
   "outputs": [
    {
     "data": {
      "text/plain": [
       "(99999, 201)"
      ]
     },
     "execution_count": 14,
     "metadata": {},
     "output_type": "execute_result"
    }
   ],
   "source": [
    "## Remove columns with more than 70% NA\n",
    "\n",
    "\n",
    "cols = telecom_churn_df.columns[(telecom_churn_df.isnull().sum()/telecom_churn_df.shape[0])>0.7]\n",
    "telecom_churn_df.drop(cols, axis=1,inplace=True)\n",
    "telecom_churn_df.shape"
   ]
  },
  {
   "cell_type": "code",
   "execution_count": 15,
   "metadata": {},
   "outputs": [
    {
     "data": {
      "text/plain": [
       "Series([], dtype: bool)"
      ]
     },
     "execution_count": 15,
     "metadata": {},
     "output_type": "execute_result"
    }
   ],
   "source": [
    "# Checking NaN columns more than 10 %\n",
    "df_per = telecom_churn_df.isnull().sum()*100/telecom_churn_df.shape[0] > 10\n",
    "df_per[df_per]"
   ]
  },
  {
   "cell_type": "markdown",
   "metadata": {},
   "source": [
    "#### imputing 0 value for all the other numeric columns"
   ]
  },
  {
   "cell_type": "code",
   "execution_count": 16,
   "metadata": {},
   "outputs": [],
   "source": [
    "num_cols = telecom_churn_df.select_dtypes(include=np.number).columns.tolist()"
   ]
  },
  {
   "cell_type": "code",
   "execution_count": 17,
   "metadata": {},
   "outputs": [],
   "source": [
    "#imputing with 0 value for NaN columns after getting high value end customers. \n",
    "\n",
    "telecom_churn_df[num_cols] = telecom_churn_df[num_cols].apply(lambda x: x.fillna(0) if x.dtype!='object' else x, axis=0) "
   ]
  },
  {
   "cell_type": "code",
   "execution_count": 18,
   "metadata": {},
   "outputs": [
    {
     "data": {
      "text/html": [
       "<div>\n",
       "<style scoped>\n",
       "    .dataframe tbody tr th:only-of-type {\n",
       "        vertical-align: middle;\n",
       "    }\n",
       "\n",
       "    .dataframe tbody tr th {\n",
       "        vertical-align: top;\n",
       "    }\n",
       "\n",
       "    .dataframe thead th {\n",
       "        text-align: right;\n",
       "    }\n",
       "</style>\n",
       "<table border=\"1\" class=\"dataframe\">\n",
       "  <thead>\n",
       "    <tr style=\"text-align: right;\">\n",
       "      <th></th>\n",
       "      <th>mobile_number</th>\n",
       "      <th>loc_og_t2o_mou</th>\n",
       "      <th>std_og_t2o_mou</th>\n",
       "      <th>loc_ic_t2o_mou</th>\n",
       "      <th>arpu_6</th>\n",
       "      <th>arpu_7</th>\n",
       "      <th>arpu_8</th>\n",
       "      <th>arpu_9</th>\n",
       "      <th>onnet_mou_6</th>\n",
       "      <th>onnet_mou_7</th>\n",
       "      <th>...</th>\n",
       "      <th>sachet_3g_9</th>\n",
       "      <th>fb_user_6</th>\n",
       "      <th>fb_user_7</th>\n",
       "      <th>fb_user_8</th>\n",
       "      <th>fb_user_9</th>\n",
       "      <th>aon</th>\n",
       "      <th>aug_vbc_3g</th>\n",
       "      <th>jul_vbc_3g</th>\n",
       "      <th>jun_vbc_3g</th>\n",
       "      <th>sep_vbc_3g</th>\n",
       "    </tr>\n",
       "  </thead>\n",
       "  <tbody>\n",
       "    <tr>\n",
       "      <th>count</th>\n",
       "      <td>9.999900e+04</td>\n",
       "      <td>99999.0</td>\n",
       "      <td>99999.0</td>\n",
       "      <td>99999.0</td>\n",
       "      <td>99999.000000</td>\n",
       "      <td>99999.000000</td>\n",
       "      <td>99999.000000</td>\n",
       "      <td>99999.000000</td>\n",
       "      <td>99999.000000</td>\n",
       "      <td>99999.000000</td>\n",
       "      <td>...</td>\n",
       "      <td>99999.000000</td>\n",
       "      <td>99999.000000</td>\n",
       "      <td>99999.000000</td>\n",
       "      <td>99999.000000</td>\n",
       "      <td>99999.000000</td>\n",
       "      <td>99999.000000</td>\n",
       "      <td>99999.000000</td>\n",
       "      <td>99999.000000</td>\n",
       "      <td>99999.000000</td>\n",
       "      <td>99999.000000</td>\n",
       "    </tr>\n",
       "    <tr>\n",
       "      <th>mean</th>\n",
       "      <td>7.001207e+09</td>\n",
       "      <td>0.0</td>\n",
       "      <td>0.0</td>\n",
       "      <td>0.0</td>\n",
       "      <td>282.987358</td>\n",
       "      <td>278.536648</td>\n",
       "      <td>279.154731</td>\n",
       "      <td>261.645069</td>\n",
       "      <td>127.183397</td>\n",
       "      <td>128.512397</td>\n",
       "      <td>...</td>\n",
       "      <td>0.084581</td>\n",
       "      <td>-0.518465</td>\n",
       "      <td>-0.511905</td>\n",
       "      <td>-0.501975</td>\n",
       "      <td>-0.517595</td>\n",
       "      <td>1219.854749</td>\n",
       "      <td>68.170248</td>\n",
       "      <td>66.839062</td>\n",
       "      <td>60.021204</td>\n",
       "      <td>3.299373</td>\n",
       "    </tr>\n",
       "    <tr>\n",
       "      <th>std</th>\n",
       "      <td>6.956694e+05</td>\n",
       "      <td>0.0</td>\n",
       "      <td>0.0</td>\n",
       "      <td>0.0</td>\n",
       "      <td>328.439770</td>\n",
       "      <td>338.156291</td>\n",
       "      <td>344.474791</td>\n",
       "      <td>341.998630</td>\n",
       "      <td>292.433718</td>\n",
       "      <td>303.869995</td>\n",
       "      <td>...</td>\n",
       "      <td>0.650457</td>\n",
       "      <td>0.842420</td>\n",
       "      <td>0.845358</td>\n",
       "      <td>0.848097</td>\n",
       "      <td>0.834303</td>\n",
       "      <td>954.733842</td>\n",
       "      <td>267.580450</td>\n",
       "      <td>271.201856</td>\n",
       "      <td>253.938223</td>\n",
       "      <td>32.408353</td>\n",
       "    </tr>\n",
       "    <tr>\n",
       "      <th>min</th>\n",
       "      <td>7.000000e+09</td>\n",
       "      <td>0.0</td>\n",
       "      <td>0.0</td>\n",
       "      <td>0.0</td>\n",
       "      <td>-2258.709000</td>\n",
       "      <td>-2014.045000</td>\n",
       "      <td>-945.808000</td>\n",
       "      <td>-1899.505000</td>\n",
       "      <td>0.000000</td>\n",
       "      <td>0.000000</td>\n",
       "      <td>...</td>\n",
       "      <td>0.000000</td>\n",
       "      <td>-1.000000</td>\n",
       "      <td>-1.000000</td>\n",
       "      <td>-1.000000</td>\n",
       "      <td>-1.000000</td>\n",
       "      <td>180.000000</td>\n",
       "      <td>0.000000</td>\n",
       "      <td>0.000000</td>\n",
       "      <td>0.000000</td>\n",
       "      <td>0.000000</td>\n",
       "    </tr>\n",
       "    <tr>\n",
       "      <th>25%</th>\n",
       "      <td>7.000606e+09</td>\n",
       "      <td>0.0</td>\n",
       "      <td>0.0</td>\n",
       "      <td>0.0</td>\n",
       "      <td>93.411500</td>\n",
       "      <td>86.980500</td>\n",
       "      <td>84.126000</td>\n",
       "      <td>62.685000</td>\n",
       "      <td>5.430000</td>\n",
       "      <td>4.880000</td>\n",
       "      <td>...</td>\n",
       "      <td>0.000000</td>\n",
       "      <td>-1.000000</td>\n",
       "      <td>-1.000000</td>\n",
       "      <td>-1.000000</td>\n",
       "      <td>-1.000000</td>\n",
       "      <td>467.000000</td>\n",
       "      <td>0.000000</td>\n",
       "      <td>0.000000</td>\n",
       "      <td>0.000000</td>\n",
       "      <td>0.000000</td>\n",
       "    </tr>\n",
       "    <tr>\n",
       "      <th>50%</th>\n",
       "      <td>7.001205e+09</td>\n",
       "      <td>0.0</td>\n",
       "      <td>0.0</td>\n",
       "      <td>0.0</td>\n",
       "      <td>197.704000</td>\n",
       "      <td>191.640000</td>\n",
       "      <td>192.080000</td>\n",
       "      <td>176.849000</td>\n",
       "      <td>30.980000</td>\n",
       "      <td>29.230000</td>\n",
       "      <td>...</td>\n",
       "      <td>0.000000</td>\n",
       "      <td>-1.000000</td>\n",
       "      <td>-1.000000</td>\n",
       "      <td>-1.000000</td>\n",
       "      <td>-1.000000</td>\n",
       "      <td>863.000000</td>\n",
       "      <td>0.000000</td>\n",
       "      <td>0.000000</td>\n",
       "      <td>0.000000</td>\n",
       "      <td>0.000000</td>\n",
       "    </tr>\n",
       "    <tr>\n",
       "      <th>75%</th>\n",
       "      <td>7.001812e+09</td>\n",
       "      <td>0.0</td>\n",
       "      <td>0.0</td>\n",
       "      <td>0.0</td>\n",
       "      <td>371.060000</td>\n",
       "      <td>365.344500</td>\n",
       "      <td>369.370500</td>\n",
       "      <td>353.466500</td>\n",
       "      <td>112.610000</td>\n",
       "      <td>108.880000</td>\n",
       "      <td>...</td>\n",
       "      <td>0.000000</td>\n",
       "      <td>0.000000</td>\n",
       "      <td>0.000000</td>\n",
       "      <td>0.000000</td>\n",
       "      <td>0.000000</td>\n",
       "      <td>1807.500000</td>\n",
       "      <td>0.000000</td>\n",
       "      <td>0.000000</td>\n",
       "      <td>0.000000</td>\n",
       "      <td>0.000000</td>\n",
       "    </tr>\n",
       "    <tr>\n",
       "      <th>max</th>\n",
       "      <td>7.002411e+09</td>\n",
       "      <td>0.0</td>\n",
       "      <td>0.0</td>\n",
       "      <td>0.0</td>\n",
       "      <td>27731.088000</td>\n",
       "      <td>35145.834000</td>\n",
       "      <td>33543.624000</td>\n",
       "      <td>38805.617000</td>\n",
       "      <td>7376.710000</td>\n",
       "      <td>8157.780000</td>\n",
       "      <td>...</td>\n",
       "      <td>49.000000</td>\n",
       "      <td>1.000000</td>\n",
       "      <td>1.000000</td>\n",
       "      <td>1.000000</td>\n",
       "      <td>1.000000</td>\n",
       "      <td>4337.000000</td>\n",
       "      <td>12916.220000</td>\n",
       "      <td>9165.600000</td>\n",
       "      <td>11166.210000</td>\n",
       "      <td>2618.570000</td>\n",
       "    </tr>\n",
       "  </tbody>\n",
       "</table>\n",
       "<p>8 rows × 197 columns</p>\n",
       "</div>"
      ],
      "text/plain": [
       "       mobile_number  loc_og_t2o_mou  std_og_t2o_mou  loc_ic_t2o_mou        arpu_6        arpu_7        arpu_8        arpu_9   onnet_mou_6   onnet_mou_7  ...   sachet_3g_9     fb_user_6     fb_user_7     fb_user_8     fb_user_9           aon    aug_vbc_3g    jul_vbc_3g    jun_vbc_3g    sep_vbc_3g\n",
       "count   9.999900e+04         99999.0         99999.0         99999.0  99999.000000  99999.000000  99999.000000  99999.000000  99999.000000  99999.000000  ...  99999.000000  99999.000000  99999.000000  99999.000000  99999.000000  99999.000000  99999.000000  99999.000000  99999.000000  99999.000000\n",
       "mean    7.001207e+09             0.0             0.0             0.0    282.987358    278.536648    279.154731    261.645069    127.183397    128.512397  ...      0.084581     -0.518465     -0.511905     -0.501975     -0.517595   1219.854749     68.170248     66.839062     60.021204      3.299373\n",
       "std     6.956694e+05             0.0             0.0             0.0    328.439770    338.156291    344.474791    341.998630    292.433718    303.869995  ...      0.650457      0.842420      0.845358      0.848097      0.834303    954.733842    267.580450    271.201856    253.938223     32.408353\n",
       "min     7.000000e+09             0.0             0.0             0.0  -2258.709000  -2014.045000   -945.808000  -1899.505000      0.000000      0.000000  ...      0.000000     -1.000000     -1.000000     -1.000000     -1.000000    180.000000      0.000000      0.000000      0.000000      0.000000\n",
       "25%     7.000606e+09             0.0             0.0             0.0     93.411500     86.980500     84.126000     62.685000      5.430000      4.880000  ...      0.000000     -1.000000     -1.000000     -1.000000     -1.000000    467.000000      0.000000      0.000000      0.000000      0.000000\n",
       "50%     7.001205e+09             0.0             0.0             0.0    197.704000    191.640000    192.080000    176.849000     30.980000     29.230000  ...      0.000000     -1.000000     -1.000000     -1.000000     -1.000000    863.000000      0.000000      0.000000      0.000000      0.000000\n",
       "75%     7.001812e+09             0.0             0.0             0.0    371.060000    365.344500    369.370500    353.466500    112.610000    108.880000  ...      0.000000      0.000000      0.000000      0.000000      0.000000   1807.500000      0.000000      0.000000      0.000000      0.000000\n",
       "max     7.002411e+09             0.0             0.0             0.0  27731.088000  35145.834000  33543.624000  38805.617000   7376.710000   8157.780000  ...     49.000000      1.000000      1.000000      1.000000      1.000000   4337.000000  12916.220000   9165.600000  11166.210000   2618.570000\n",
       "\n",
       "[8 rows x 197 columns]"
      ]
     },
     "execution_count": 18,
     "metadata": {},
     "output_type": "execute_result"
    }
   ],
   "source": [
    "telecom_churn_df[num_cols].describe(include='all')"
   ]
  },
  {
   "cell_type": "code",
   "execution_count": 19,
   "metadata": {},
   "outputs": [
    {
     "data": {
      "text/html": [
       "<div>\n",
       "<style scoped>\n",
       "    .dataframe tbody tr th:only-of-type {\n",
       "        vertical-align: middle;\n",
       "    }\n",
       "\n",
       "    .dataframe tbody tr th {\n",
       "        vertical-align: top;\n",
       "    }\n",
       "\n",
       "    .dataframe thead th {\n",
       "        text-align: right;\n",
       "    }\n",
       "</style>\n",
       "<table border=\"1\" class=\"dataframe\">\n",
       "  <thead>\n",
       "    <tr style=\"text-align: right;\">\n",
       "      <th></th>\n",
       "      <th>mobile_number</th>\n",
       "      <th>loc_og_t2o_mou</th>\n",
       "      <th>std_og_t2o_mou</th>\n",
       "      <th>loc_ic_t2o_mou</th>\n",
       "      <th>arpu_6</th>\n",
       "      <th>arpu_7</th>\n",
       "      <th>arpu_8</th>\n",
       "      <th>arpu_9</th>\n",
       "      <th>onnet_mou_6</th>\n",
       "      <th>onnet_mou_7</th>\n",
       "      <th>...</th>\n",
       "      <th>sachet_3g_9</th>\n",
       "      <th>fb_user_6</th>\n",
       "      <th>fb_user_7</th>\n",
       "      <th>fb_user_8</th>\n",
       "      <th>fb_user_9</th>\n",
       "      <th>aon</th>\n",
       "      <th>aug_vbc_3g</th>\n",
       "      <th>jul_vbc_3g</th>\n",
       "      <th>jun_vbc_3g</th>\n",
       "      <th>sep_vbc_3g</th>\n",
       "    </tr>\n",
       "  </thead>\n",
       "  <tbody>\n",
       "    <tr>\n",
       "      <th>0</th>\n",
       "      <td>7000842753</td>\n",
       "      <td>0.0</td>\n",
       "      <td>0.0</td>\n",
       "      <td>0.0</td>\n",
       "      <td>197.385</td>\n",
       "      <td>214.816</td>\n",
       "      <td>213.803</td>\n",
       "      <td>21.100</td>\n",
       "      <td>0.00</td>\n",
       "      <td>0.00</td>\n",
       "      <td>...</td>\n",
       "      <td>0</td>\n",
       "      <td>1.0</td>\n",
       "      <td>1.0</td>\n",
       "      <td>1.0</td>\n",
       "      <td>-1.0</td>\n",
       "      <td>968</td>\n",
       "      <td>30.4</td>\n",
       "      <td>0.0</td>\n",
       "      <td>101.20</td>\n",
       "      <td>3.58</td>\n",
       "    </tr>\n",
       "    <tr>\n",
       "      <th>1</th>\n",
       "      <td>7001865778</td>\n",
       "      <td>0.0</td>\n",
       "      <td>0.0</td>\n",
       "      <td>0.0</td>\n",
       "      <td>34.047</td>\n",
       "      <td>355.074</td>\n",
       "      <td>268.321</td>\n",
       "      <td>86.285</td>\n",
       "      <td>24.11</td>\n",
       "      <td>78.68</td>\n",
       "      <td>...</td>\n",
       "      <td>0</td>\n",
       "      <td>-1.0</td>\n",
       "      <td>1.0</td>\n",
       "      <td>1.0</td>\n",
       "      <td>-1.0</td>\n",
       "      <td>1006</td>\n",
       "      <td>0.0</td>\n",
       "      <td>0.0</td>\n",
       "      <td>0.00</td>\n",
       "      <td>0.00</td>\n",
       "    </tr>\n",
       "    <tr>\n",
       "      <th>2</th>\n",
       "      <td>7001625959</td>\n",
       "      <td>0.0</td>\n",
       "      <td>0.0</td>\n",
       "      <td>0.0</td>\n",
       "      <td>167.690</td>\n",
       "      <td>189.058</td>\n",
       "      <td>210.226</td>\n",
       "      <td>290.714</td>\n",
       "      <td>11.54</td>\n",
       "      <td>55.24</td>\n",
       "      <td>...</td>\n",
       "      <td>0</td>\n",
       "      <td>-1.0</td>\n",
       "      <td>-1.0</td>\n",
       "      <td>-1.0</td>\n",
       "      <td>1.0</td>\n",
       "      <td>1103</td>\n",
       "      <td>0.0</td>\n",
       "      <td>0.0</td>\n",
       "      <td>4.17</td>\n",
       "      <td>0.00</td>\n",
       "    </tr>\n",
       "    <tr>\n",
       "      <th>3</th>\n",
       "      <td>7001204172</td>\n",
       "      <td>0.0</td>\n",
       "      <td>0.0</td>\n",
       "      <td>0.0</td>\n",
       "      <td>221.338</td>\n",
       "      <td>251.102</td>\n",
       "      <td>508.054</td>\n",
       "      <td>389.500</td>\n",
       "      <td>99.91</td>\n",
       "      <td>54.39</td>\n",
       "      <td>...</td>\n",
       "      <td>0</td>\n",
       "      <td>-1.0</td>\n",
       "      <td>-1.0</td>\n",
       "      <td>-1.0</td>\n",
       "      <td>-1.0</td>\n",
       "      <td>2491</td>\n",
       "      <td>0.0</td>\n",
       "      <td>0.0</td>\n",
       "      <td>0.00</td>\n",
       "      <td>0.00</td>\n",
       "    </tr>\n",
       "    <tr>\n",
       "      <th>4</th>\n",
       "      <td>7000142493</td>\n",
       "      <td>0.0</td>\n",
       "      <td>0.0</td>\n",
       "      <td>0.0</td>\n",
       "      <td>261.636</td>\n",
       "      <td>309.876</td>\n",
       "      <td>238.174</td>\n",
       "      <td>163.426</td>\n",
       "      <td>50.31</td>\n",
       "      <td>149.44</td>\n",
       "      <td>...</td>\n",
       "      <td>0</td>\n",
       "      <td>0.0</td>\n",
       "      <td>-1.0</td>\n",
       "      <td>-1.0</td>\n",
       "      <td>-1.0</td>\n",
       "      <td>1526</td>\n",
       "      <td>0.0</td>\n",
       "      <td>0.0</td>\n",
       "      <td>0.00</td>\n",
       "      <td>0.00</td>\n",
       "    </tr>\n",
       "  </tbody>\n",
       "</table>\n",
       "<p>5 rows × 201 columns</p>\n",
       "</div>"
      ],
      "text/plain": [
       "   mobile_number  loc_og_t2o_mou  std_og_t2o_mou  loc_ic_t2o_mou   arpu_6   arpu_7   arpu_8   arpu_9  onnet_mou_6  onnet_mou_7  ...  sachet_3g_9  fb_user_6  fb_user_7  fb_user_8  fb_user_9   aon  aug_vbc_3g  jul_vbc_3g  jun_vbc_3g  sep_vbc_3g\n",
       "0     7000842753             0.0             0.0             0.0  197.385  214.816  213.803   21.100         0.00         0.00  ...            0        1.0        1.0        1.0       -1.0   968        30.4         0.0      101.20        3.58\n",
       "1     7001865778             0.0             0.0             0.0   34.047  355.074  268.321   86.285        24.11        78.68  ...            0       -1.0        1.0        1.0       -1.0  1006         0.0         0.0        0.00        0.00\n",
       "2     7001625959             0.0             0.0             0.0  167.690  189.058  210.226  290.714        11.54        55.24  ...            0       -1.0       -1.0       -1.0        1.0  1103         0.0         0.0        4.17        0.00\n",
       "3     7001204172             0.0             0.0             0.0  221.338  251.102  508.054  389.500        99.91        54.39  ...            0       -1.0       -1.0       -1.0       -1.0  2491         0.0         0.0        0.00        0.00\n",
       "4     7000142493             0.0             0.0             0.0  261.636  309.876  238.174  163.426        50.31       149.44  ...            0        0.0       -1.0       -1.0       -1.0  1526         0.0         0.0        0.00        0.00\n",
       "\n",
       "[5 rows x 201 columns]"
      ]
     },
     "execution_count": 19,
     "metadata": {},
     "output_type": "execute_result"
    }
   ],
   "source": [
    "telecom_churn_df.head()"
   ]
  },
  {
   "cell_type": "code",
   "execution_count": 20,
   "metadata": {},
   "outputs": [
    {
     "data": {
      "text/plain": [
       "date_of_last_rech_6    True\n",
       "date_of_last_rech_7    True\n",
       "date_of_last_rech_8    True\n",
       "date_of_last_rech_9    True\n",
       "dtype: bool"
      ]
     },
     "execution_count": 20,
     "metadata": {},
     "output_type": "execute_result"
    }
   ],
   "source": [
    "df2 = telecom_churn_df.isnull().sum()*100/telecom_churn_df.shape[0] > 0\n",
    "df2[df2]"
   ]
  },
  {
   "cell_type": "markdown",
   "metadata": {},
   "source": [
    "#### Removing the date columns which have null value in the data"
   ]
  },
  {
   "cell_type": "code",
   "execution_count": 21,
   "metadata": {},
   "outputs": [],
   "source": [
    "telecom_churn_df.drop(['date_of_last_rech_6','date_of_last_rech_7','date_of_last_rech_8','date_of_last_rech_9'], axis=1,inplace=True)"
   ]
  },
  {
   "cell_type": "code",
   "execution_count": 22,
   "metadata": {},
   "outputs": [
    {
     "data": {
      "text/plain": [
       "Series([], dtype: bool)"
      ]
     },
     "execution_count": 22,
     "metadata": {},
     "output_type": "execute_result"
    }
   ],
   "source": [
    "df2 = telecom_churn_df.isnull().sum()*100/telecom_churn_df.shape[0] > 0\n",
    "df2[df2]"
   ]
  },
  {
   "cell_type": "markdown",
   "metadata": {},
   "source": [
    "## Step 2: High Value Customer\n",
    "### Deriving new column\n"
   ]
  },
  {
   "cell_type": "code",
   "execution_count": 23,
   "metadata": {},
   "outputs": [],
   "source": [
    "# calculate the total data recharge amount for June and July --> number of recharges * average recharge amount\n",
    "telecom_churn_df['total_data_rech_6'] = telecom_churn_df.total_rech_data_6 * telecom_churn_df.av_rech_amt_data_6\n",
    "telecom_churn_df['total_data_rech_7'] = telecom_churn_df.total_rech_data_7 * telecom_churn_df.av_rech_amt_data_7\n"
   ]
  },
  {
   "cell_type": "code",
   "execution_count": 24,
   "metadata": {},
   "outputs": [],
   "source": [
    "# calculate total recharge amount for June and July --> call recharge amount + data recharge amount\n",
    "telecom_churn_df['amt_data_6'] = telecom_churn_df.total_rech_amt_6 + telecom_churn_df.total_data_rech_6\n",
    "telecom_churn_df['amt_data_7'] = telecom_churn_df.total_rech_amt_7 + telecom_churn_df.total_data_rech_7"
   ]
  },
  {
   "cell_type": "code",
   "execution_count": 25,
   "metadata": {},
   "outputs": [],
   "source": [
    "# calculate average recharge done by customer in June and July\n",
    "telecom_churn_df['av_amt_data_6_7'] = (telecom_churn_df.amt_data_6 + telecom_churn_df.amt_data_7)/2"
   ]
  },
  {
   "cell_type": "code",
   "execution_count": 26,
   "metadata": {},
   "outputs": [
    {
     "data": {
      "text/plain": [
       "478.0"
      ]
     },
     "execution_count": 26,
     "metadata": {},
     "output_type": "execute_result"
    }
   ],
   "source": [
    "# Calculate 70% percentile amount \n",
    "amt = telecom_churn_df['av_amt_data_6_7'].quantile(0.70)\n",
    "amt "
   ]
  },
  {
   "cell_type": "code",
   "execution_count": 27,
   "metadata": {},
   "outputs": [
    {
     "data": {
      "text/plain": [
       "(30001, 202)"
      ]
     },
     "execution_count": 27,
     "metadata": {},
     "output_type": "execute_result"
    }
   ],
   "source": [
    "#Dropping rows which are less than 70 percentile\n",
    "telecom_churn_filtered = telecom_churn_df[telecom_churn_df.av_amt_data_6_7 >=478]\n",
    "telecom_churn_filtered.shape"
   ]
  },
  {
   "cell_type": "code",
   "execution_count": 28,
   "metadata": {},
   "outputs": [
    {
     "data": {
      "text/plain": [
       "(30001, 197)"
      ]
     },
     "execution_count": 28,
     "metadata": {},
     "output_type": "execute_result"
    }
   ],
   "source": [
    "# delete columns created to filter high-value customers\n",
    "telecom_churn_filtered = telecom_churn_filtered.drop(['total_data_rech_6', 'total_data_rech_7',\n",
    "                                      'amt_data_6', 'amt_data_7', 'av_amt_data_6_7'], axis=1)\n",
    "telecom_churn_filtered.shape"
   ]
  },
  {
   "cell_type": "code",
   "execution_count": 29,
   "metadata": {},
   "outputs": [
    {
     "data": {
      "text/plain": [
       "(99999, 202)"
      ]
     },
     "execution_count": 29,
     "metadata": {},
     "output_type": "execute_result"
    }
   ],
   "source": [
    "telecom_churn_df.shape"
   ]
  },
  {
   "cell_type": "markdown",
   "metadata": {},
   "source": [
    "## Step 3: Derive Churn\n",
    "### 9th Month is churn phase - Usage based churn. "
   ]
  },
  {
   "cell_type": "code",
   "execution_count": 30,
   "metadata": {},
   "outputs": [],
   "source": [
    "# calculate total incoming and outgoing minutes of usage\n",
    "telecom_churn_filtered['total_calls_mou_9'] = telecom_churn_filtered.total_ic_mou_9 + telecom_churn_filtered.total_og_mou_9"
   ]
  },
  {
   "cell_type": "code",
   "execution_count": 31,
   "metadata": {},
   "outputs": [],
   "source": [
    "# calculate 2g and 3g data consumption\n",
    "telecom_churn_filtered['total_data_cons_9'] =  telecom_churn_filtered.vol_2g_mb_9 + telecom_churn_filtered.vol_3g_mb_9"
   ]
  },
  {
   "cell_type": "code",
   "execution_count": 32,
   "metadata": {},
   "outputs": [],
   "source": [
    "# create churn column: those who have not used either calls or 2G or 3G data in the month of September \n",
    "# 0 - not churn, 1 - churn\n",
    "telecom_churn_filtered['churn'] = telecom_churn_filtered.apply(lambda row: 1 if (row.total_calls_mou_9 == 0 and row.total_data_cons_9 == 0) else 0, axis=1)"
   ]
  },
  {
   "cell_type": "code",
   "execution_count": 33,
   "metadata": {},
   "outputs": [
    {
     "name": "stdout",
     "output_type": "stream",
     "text": [
      "0    91.863605\n",
      "1     8.136395\n",
      "Name: churn, dtype: float64\n"
     ]
    }
   ],
   "source": [
    "#Check Churn Percentage\n",
    "print(telecom_churn_filtered.churn.value_counts()*100/telecom_churn_filtered.shape[0])"
   ]
  },
  {
   "cell_type": "code",
   "execution_count": 34,
   "metadata": {},
   "outputs": [
    {
     "data": {
      "text/plain": [
       "(30001, 200)"
      ]
     },
     "execution_count": 34,
     "metadata": {},
     "output_type": "execute_result"
    }
   ],
   "source": [
    "telecom_churn_filtered.shape"
   ]
  },
  {
   "cell_type": "markdown",
   "metadata": {},
   "source": [
    "## Step 4: Discarding 9th month data "
   ]
  },
  {
   "cell_type": "code",
   "execution_count": 35,
   "metadata": {},
   "outputs": [],
   "source": [
    "import re"
   ]
  },
  {
   "cell_type": "code",
   "execution_count": 36,
   "metadata": {},
   "outputs": [],
   "source": [
    "#Dropping 9th month data on the main churn df\n",
    "telecom_churn_df= telecom_churn_df.select(lambda x: not re.search('_9', x), axis=1)\n"
   ]
  },
  {
   "cell_type": "code",
   "execution_count": 37,
   "metadata": {},
   "outputs": [
    {
     "data": {
      "text/plain": [
       "(99999, 155)"
      ]
     },
     "execution_count": 37,
     "metadata": {},
     "output_type": "execute_result"
    }
   ],
   "source": [
    "telecom_churn_df.shape"
   ]
  },
  {
   "cell_type": "code",
   "execution_count": 38,
   "metadata": {},
   "outputs": [
    {
     "data": {
      "text/plain": [
       "(30001, 151)"
      ]
     },
     "execution_count": 38,
     "metadata": {},
     "output_type": "execute_result"
    }
   ],
   "source": [
    "#Dropping 9th month data on the filtered churn df\n",
    "telecom_churn_filtered= telecom_churn_filtered.select(lambda x: not re.search('_9', x), axis=1)\n",
    "telecom_churn_filtered.shape"
   ]
  },
  {
   "cell_type": "markdown",
   "metadata": {},
   "source": [
    "## Step 5: Derive New Variables"
   ]
  },
  {
   "cell_type": "markdown",
   "metadata": {},
   "source": [
    "#### Calculate difference between action phase (8th Month) and good phase (6th and 7th Month)"
   ]
  },
  {
   "cell_type": "markdown",
   "metadata": {},
   "source": [
    "\n",
    "Deriving new variables. One such important feature, in this situation, will be the difference between the 8th month and the previous months. The difference can be in terms of usage difference or recharge value difference. Let's calculate difference variable as the difference between 8th month and the average of 6th and 7th month."
   ]
  },
  {
   "cell_type": "code",
   "execution_count": 39,
   "metadata": {},
   "outputs": [],
   "source": [
    "telecom_churn_filtered['arpu_diff'] = telecom_churn_filtered.arpu_8 - ((telecom_churn_filtered.arpu_6 + telecom_churn_filtered.arpu_7)/2)\n",
    "\n",
    "telecom_churn_filtered['onnet_mou_diff'] = telecom_churn_filtered.onnet_mou_8 - ((telecom_churn_filtered.onnet_mou_6 + telecom_churn_filtered.onnet_mou_7)/2)\n",
    "\n",
    "telecom_churn_filtered['offnet_mou_diff'] = telecom_churn_filtered.offnet_mou_8 - ((telecom_churn_filtered.offnet_mou_6 + telecom_churn_filtered.offnet_mou_7)/2)\n",
    "\n",
    "telecom_churn_filtered['roam_ic_mou_diff'] = telecom_churn_filtered.roam_ic_mou_8 - ((telecom_churn_filtered.roam_ic_mou_6 + telecom_churn_filtered.roam_ic_mou_7)/2)\n",
    "\n",
    "telecom_churn_filtered['roam_og_mou_diff'] = telecom_churn_filtered.roam_og_mou_8 - ((telecom_churn_filtered.roam_og_mou_6 + telecom_churn_filtered.roam_og_mou_7)/2)\n",
    "\n",
    "telecom_churn_filtered['loc_og_mou_diff'] = telecom_churn_filtered.loc_og_mou_8 - ((telecom_churn_filtered.loc_og_mou_6 + telecom_churn_filtered.loc_og_mou_7)/2)\n",
    "\n",
    "telecom_churn_filtered['std_og_mou_diff'] = telecom_churn_filtered.std_og_mou_8 - ((telecom_churn_filtered.std_og_mou_6 + telecom_churn_filtered.std_og_mou_7)/2)\n",
    "\n",
    "telecom_churn_filtered['isd_og_mou_diff'] = telecom_churn_filtered.isd_og_mou_8 - ((telecom_churn_filtered.isd_og_mou_6 + telecom_churn_filtered.isd_og_mou_7)/2)\n",
    "\n",
    "telecom_churn_filtered['spl_og_mou_diff'] = telecom_churn_filtered.spl_og_mou_8 - ((telecom_churn_filtered.spl_og_mou_6 + telecom_churn_filtered.spl_og_mou_7)/2)\n",
    "\n",
    "telecom_churn_filtered['total_og_mou_diff'] = telecom_churn_filtered.total_og_mou_8 - ((telecom_churn_filtered.total_og_mou_6 + telecom_churn_filtered.total_og_mou_7)/2)\n",
    "\n",
    "telecom_churn_filtered['loc_ic_mou_diff'] = telecom_churn_filtered.loc_ic_mou_8 - ((telecom_churn_filtered.loc_ic_mou_6 + telecom_churn_filtered.loc_ic_mou_7)/2)\n",
    "\n",
    "telecom_churn_filtered['std_ic_mou_diff'] = telecom_churn_filtered.std_ic_mou_8 - ((telecom_churn_filtered.std_ic_mou_6 + telecom_churn_filtered.std_ic_mou_7)/2)\n",
    "\n",
    "telecom_churn_filtered['isd_ic_mou_diff'] = telecom_churn_filtered.isd_ic_mou_8 - ((telecom_churn_filtered.isd_ic_mou_6 + telecom_churn_filtered.isd_ic_mou_7)/2)\n",
    "\n",
    "telecom_churn_filtered['spl_ic_mou_diff'] = telecom_churn_filtered.spl_ic_mou_8 - ((telecom_churn_filtered.spl_ic_mou_6 + telecom_churn_filtered.spl_ic_mou_7)/2)\n",
    "\n",
    "telecom_churn_filtered['total_ic_mou_diff'] = telecom_churn_filtered.total_ic_mou_8 - ((telecom_churn_filtered.total_ic_mou_6 + telecom_churn_filtered.total_ic_mou_7)/2)\n",
    "\n",
    "telecom_churn_filtered['total_rech_num_diff'] = telecom_churn_filtered.total_rech_num_8 - ((telecom_churn_filtered.total_rech_num_6 + telecom_churn_filtered.total_rech_num_7)/2)\n",
    "\n",
    "telecom_churn_filtered['total_rech_amt_diff'] = telecom_churn_filtered.total_rech_amt_8 - ((telecom_churn_filtered.total_rech_amt_6 + telecom_churn_filtered.total_rech_amt_7)/2)\n",
    "\n",
    "telecom_churn_filtered['max_rech_amt_diff'] = telecom_churn_filtered.max_rech_amt_8 - ((telecom_churn_filtered.max_rech_amt_6 + telecom_churn_filtered.max_rech_amt_7)/2)\n",
    "\n",
    "telecom_churn_filtered['total_rech_data_diff'] = telecom_churn_filtered.total_rech_data_8 - ((telecom_churn_filtered.total_rech_data_6 + telecom_churn_filtered.total_rech_data_7)/2)\n",
    "\n",
    "telecom_churn_filtered['max_rech_data_diff'] = telecom_churn_filtered.max_rech_data_8 - ((telecom_churn_filtered.max_rech_data_6 + telecom_churn_filtered.max_rech_data_7)/2)\n",
    "\n",
    "telecom_churn_filtered['av_rech_amt_data_diff'] = telecom_churn_filtered.av_rech_amt_data_8 - ((telecom_churn_filtered.av_rech_amt_data_6 + telecom_churn_filtered.av_rech_amt_data_7)/2)\n",
    "\n",
    "telecom_churn_filtered['vol_2g_mb_diff'] = telecom_churn_filtered.vol_2g_mb_8 - ((telecom_churn_filtered.vol_2g_mb_6 + telecom_churn_filtered.vol_2g_mb_7)/2)\n",
    "\n",
    "telecom_churn_filtered['vol_3g_mb_diff'] = telecom_churn_filtered.vol_3g_mb_8 - ((telecom_churn_filtered.vol_3g_mb_6 + telecom_churn_filtered.vol_3g_mb_7)/2)"
   ]
  },
  {
   "cell_type": "markdown",
   "metadata": {},
   "source": [
    "## Step 6: Univariate EDA"
   ]
  },
  {
   "cell_type": "code",
   "execution_count": 40,
   "metadata": {},
   "outputs": [
    {
     "data": {
      "text/plain": [
       "<matplotlib.axes._subplots.AxesSubplot at 0x19e4ce3b7f0>"
      ]
     },
     "execution_count": 40,
     "metadata": {},
     "output_type": "execute_result"
    },
    {
     "data": {
      "image/png": "[encoded data removed]",
      "text/plain": [
       "<Figure size 432x288 with 1 Axes>"
      ]
     },
     "metadata": {
      "needs_background": "light"
     },
     "output_type": "display_data"
    }
   ],
   "source": [
    "sns.boxplot(telecom_churn_df.arpu_6)\n"
   ]
  },
  {
   "cell_type": "code",
   "execution_count": 41,
   "metadata": {},
   "outputs": [
    {
     "data": {
      "text/plain": [
       "<matplotlib.axes._subplots.AxesSubplot at 0x19e01a71ef0>"
      ]
     },
     "execution_count": 41,
     "metadata": {},
     "output_type": "execute_result"
    },
    {
     "data": {
      "image/png": "[encoded data removed]",
      "text/plain": [
       "<Figure size 432x288 with 1 Axes>"
      ]
     },
     "metadata": {
      "needs_background": "light"
     },
     "output_type": "display_data"
    }
   ],
   "source": [
    "sns.boxplot(telecom_churn_df.onnet_mou_8)\n"
   ]
  },
  {
   "cell_type": "code",
   "execution_count": 42,
   "metadata": {},
   "outputs": [
    {
     "data": {
      "text/plain": [
       "<matplotlib.axes._subplots.AxesSubplot at 0x19e01abb8d0>"
      ]
     },
     "execution_count": 42,
     "metadata": {},
     "output_type": "execute_result"
    },
    {
     "data": {
      "image/png": "[encoded data removed]",
      "text/plain": [
       "<Figure size 432x288 with 1 Axes>"
      ]
     },
     "metadata": {
      "needs_background": "light"
     },
     "output_type": "display_data"
    }
   ],
   "source": [
    "sns.boxplot(telecom_churn_df.aon)"
   ]
  },
  {
   "cell_type": "markdown",
   "metadata": {},
   "source": [
    "## Step 7: Bivariate EDA"
   ]
  },
  {
   "cell_type": "code",
   "execution_count": 43,
   "metadata": {},
   "outputs": [
    {
     "data": {
      "text/plain": [
       "(30001, 174)"
      ]
     },
     "execution_count": 43,
     "metadata": {},
     "output_type": "execute_result"
    }
   ],
   "source": [
    "telecom_churn_filtered.shape"
   ]
  },
  {
   "cell_type": "code",
   "execution_count": 44,
   "metadata": {},
   "outputs": [
    {
     "data": {
      "text/plain": [
       "<matplotlib.axes._subplots.AxesSubplot at 0x19e01b15668>"
      ]
     },
     "execution_count": 44,
     "metadata": {},
     "output_type": "execute_result"
    },
    {
     "data": {
      "image/png": "[encoded data removed]",
      "text/plain": [
       "<Figure size 432x288 with 1 Axes>"
      ]
     },
     "metadata": {
      "needs_background": "light"
     },
     "output_type": "display_data"
    }
   ],
   "source": [
    "#bivariate(telecom_churn_filtered.churn, telecom_churn_filtered.aon)\n",
    "sns.boxplot(telecom_churn_filtered.churn, telecom_churn_filtered.aon)"
   ]
  },
  {
   "cell_type": "code",
   "execution_count": 45,
   "metadata": {},
   "outputs": [
    {
     "data": {
      "text/html": [
       "<div>\n",
       "<style scoped>\n",
       "    .dataframe tbody tr th:only-of-type {\n",
       "        vertical-align: middle;\n",
       "    }\n",
       "\n",
       "    .dataframe tbody tr th {\n",
       "        vertical-align: top;\n",
       "    }\n",
       "\n",
       "    .dataframe thead th {\n",
       "        text-align: right;\n",
       "    }\n",
       "</style>\n",
       "<table border=\"1\" class=\"dataframe\">\n",
       "  <thead>\n",
       "    <tr style=\"text-align: right;\">\n",
       "      <th>night_pck_user_8</th>\n",
       "      <th>-1.0</th>\n",
       "      <th>0.0</th>\n",
       "      <th>1.0</th>\n",
       "    </tr>\n",
       "    <tr>\n",
       "      <th>churn</th>\n",
       "      <th></th>\n",
       "      <th></th>\n",
       "      <th></th>\n",
       "    </tr>\n",
       "  </thead>\n",
       "  <tbody>\n",
       "    <tr>\n",
       "      <th>0</th>\n",
       "      <td>85.89123</td>\n",
       "      <td>97.117602</td>\n",
       "      <td>97.360704</td>\n",
       "    </tr>\n",
       "    <tr>\n",
       "      <th>1</th>\n",
       "      <td>14.10877</td>\n",
       "      <td>2.882398</td>\n",
       "      <td>2.639296</td>\n",
       "    </tr>\n",
       "  </tbody>\n",
       "</table>\n",
       "</div>"
      ],
      "text/plain": [
       "night_pck_user_8      -1.0        0.0        1.0\n",
       "churn                                           \n",
       "0                 85.89123  97.117602  97.360704\n",
       "1                 14.10877   2.882398   2.639296"
      ]
     },
     "execution_count": 45,
     "metadata": {},
     "output_type": "execute_result"
    }
   ],
   "source": [
    "pd.crosstab(telecom_churn_filtered.churn, telecom_churn_filtered.night_pck_user_8, normalize='columns')*100"
   ]
  },
  {
   "cell_type": "code",
   "execution_count": 46,
   "metadata": {},
   "outputs": [],
   "source": [
    "# As per the above data, only 2 % of the night pack users on 8th month will be churned."
   ]
  },
  {
   "cell_type": "code",
   "execution_count": 47,
   "metadata": {},
   "outputs": [
    {
     "data": {
      "text/html": [
       "<div>\n",
       "<style scoped>\n",
       "    .dataframe tbody tr th:only-of-type {\n",
       "        vertical-align: middle;\n",
       "    }\n",
       "\n",
       "    .dataframe tbody tr th {\n",
       "        vertical-align: top;\n",
       "    }\n",
       "\n",
       "    .dataframe thead th {\n",
       "        text-align: right;\n",
       "    }\n",
       "</style>\n",
       "<table border=\"1\" class=\"dataframe\">\n",
       "  <thead>\n",
       "    <tr style=\"text-align: right;\">\n",
       "      <th>sachet_3g_8</th>\n",
       "      <th>0</th>\n",
       "      <th>1</th>\n",
       "      <th>2</th>\n",
       "      <th>3</th>\n",
       "      <th>4</th>\n",
       "      <th>5</th>\n",
       "      <th>6</th>\n",
       "      <th>7</th>\n",
       "      <th>8</th>\n",
       "      <th>9</th>\n",
       "      <th>...</th>\n",
       "      <th>19</th>\n",
       "      <th>20</th>\n",
       "      <th>21</th>\n",
       "      <th>23</th>\n",
       "      <th>25</th>\n",
       "      <th>27</th>\n",
       "      <th>29</th>\n",
       "      <th>30</th>\n",
       "      <th>38</th>\n",
       "      <th>41</th>\n",
       "    </tr>\n",
       "    <tr>\n",
       "      <th>churn</th>\n",
       "      <th></th>\n",
       "      <th></th>\n",
       "      <th></th>\n",
       "      <th></th>\n",
       "      <th></th>\n",
       "      <th></th>\n",
       "      <th></th>\n",
       "      <th></th>\n",
       "      <th></th>\n",
       "      <th></th>\n",
       "      <th></th>\n",
       "      <th></th>\n",
       "      <th></th>\n",
       "      <th></th>\n",
       "      <th></th>\n",
       "      <th></th>\n",
       "      <th></th>\n",
       "      <th></th>\n",
       "      <th></th>\n",
       "      <th></th>\n",
       "      <th></th>\n",
       "    </tr>\n",
       "  </thead>\n",
       "  <tbody>\n",
       "    <tr>\n",
       "      <th>0</th>\n",
       "      <td>24972</td>\n",
       "      <td>1609</td>\n",
       "      <td>399</td>\n",
       "      <td>184</td>\n",
       "      <td>106</td>\n",
       "      <td>86</td>\n",
       "      <td>43</td>\n",
       "      <td>35</td>\n",
       "      <td>28</td>\n",
       "      <td>19</td>\n",
       "      <td>...</td>\n",
       "      <td>1</td>\n",
       "      <td>3</td>\n",
       "      <td>3</td>\n",
       "      <td>2</td>\n",
       "      <td>1</td>\n",
       "      <td>1</td>\n",
       "      <td>1</td>\n",
       "      <td>2</td>\n",
       "      <td>1</td>\n",
       "      <td>1</td>\n",
       "    </tr>\n",
       "    <tr>\n",
       "      <th>1</th>\n",
       "      <td>2369</td>\n",
       "      <td>48</td>\n",
       "      <td>5</td>\n",
       "      <td>8</td>\n",
       "      <td>4</td>\n",
       "      <td>2</td>\n",
       "      <td>1</td>\n",
       "      <td>0</td>\n",
       "      <td>2</td>\n",
       "      <td>0</td>\n",
       "      <td>...</td>\n",
       "      <td>0</td>\n",
       "      <td>0</td>\n",
       "      <td>0</td>\n",
       "      <td>0</td>\n",
       "      <td>0</td>\n",
       "      <td>0</td>\n",
       "      <td>0</td>\n",
       "      <td>0</td>\n",
       "      <td>0</td>\n",
       "      <td>0</td>\n",
       "    </tr>\n",
       "  </tbody>\n",
       "</table>\n",
       "<p>2 rows × 29 columns</p>\n",
       "</div>"
      ],
      "text/plain": [
       "sachet_3g_8     0     1    2    3    4   5   6   7   8   9   ...  19  20  21  23  25  27  29  30  38  41\n",
       "churn                                                        ...                                        \n",
       "0            24972  1609  399  184  106  86  43  35  28  19  ...   1   3   3   2   1   1   1   2   1   1\n",
       "1             2369    48    5    8    4   2   1   0   2   0  ...   0   0   0   0   0   0   0   0   0   0\n",
       "\n",
       "[2 rows x 29 columns]"
      ]
     },
     "execution_count": 47,
     "metadata": {},
     "output_type": "execute_result"
    }
   ],
   "source": [
    "pd.crosstab(telecom_churn_filtered.churn, telecom_churn_filtered.sachet_3g_8)"
   ]
  },
  {
   "cell_type": "code",
   "execution_count": 48,
   "metadata": {},
   "outputs": [
    {
     "data": {
      "text/html": [
       "<div>\n",
       "<style scoped>\n",
       "    .dataframe tbody tr th:only-of-type {\n",
       "        vertical-align: middle;\n",
       "    }\n",
       "\n",
       "    .dataframe tbody tr th {\n",
       "        vertical-align: top;\n",
       "    }\n",
       "\n",
       "    .dataframe thead th {\n",
       "        text-align: right;\n",
       "    }\n",
       "</style>\n",
       "<table border=\"1\" class=\"dataframe\">\n",
       "  <thead>\n",
       "    <tr style=\"text-align: right;\">\n",
       "      <th></th>\n",
       "      <th>mobile_number</th>\n",
       "      <th>loc_og_t2o_mou</th>\n",
       "      <th>std_og_t2o_mou</th>\n",
       "      <th>loc_ic_t2o_mou</th>\n",
       "      <th>arpu_6</th>\n",
       "      <th>arpu_7</th>\n",
       "      <th>arpu_8</th>\n",
       "      <th>onnet_mou_6</th>\n",
       "      <th>onnet_mou_7</th>\n",
       "      <th>onnet_mou_8</th>\n",
       "      <th>...</th>\n",
       "      <th>spl_ic_mou_diff</th>\n",
       "      <th>total_ic_mou_diff</th>\n",
       "      <th>total_rech_num_diff</th>\n",
       "      <th>total_rech_amt_diff</th>\n",
       "      <th>max_rech_amt_diff</th>\n",
       "      <th>total_rech_data_diff</th>\n",
       "      <th>max_rech_data_diff</th>\n",
       "      <th>av_rech_amt_data_diff</th>\n",
       "      <th>vol_2g_mb_diff</th>\n",
       "      <th>vol_3g_mb_diff</th>\n",
       "    </tr>\n",
       "  </thead>\n",
       "  <tbody>\n",
       "    <tr>\n",
       "      <th>count</th>\n",
       "      <td>3.000100e+04</td>\n",
       "      <td>30001.0</td>\n",
       "      <td>30001.0</td>\n",
       "      <td>30001.0</td>\n",
       "      <td>30001.000000</td>\n",
       "      <td>30001.000000</td>\n",
       "      <td>30001.000000</td>\n",
       "      <td>30001.000000</td>\n",
       "      <td>30001.000000</td>\n",
       "      <td>30001.000000</td>\n",
       "      <td>...</td>\n",
       "      <td>30001.000000</td>\n",
       "      <td>30001.000000</td>\n",
       "      <td>30001.000000</td>\n",
       "      <td>30001.000000</td>\n",
       "      <td>30001.000000</td>\n",
       "      <td>30001.000000</td>\n",
       "      <td>30001.000000</td>\n",
       "      <td>30001.000000</td>\n",
       "      <td>30001.000000</td>\n",
       "      <td>30001.000000</td>\n",
       "    </tr>\n",
       "    <tr>\n",
       "      <th>mean</th>\n",
       "      <td>7.001206e+09</td>\n",
       "      <td>0.0</td>\n",
       "      <td>0.0</td>\n",
       "      <td>0.0</td>\n",
       "      <td>558.490824</td>\n",
       "      <td>560.782203</td>\n",
       "      <td>508.597957</td>\n",
       "      <td>260.793024</td>\n",
       "      <td>267.819295</td>\n",
       "      <td>234.112539</td>\n",
       "      <td>...</td>\n",
       "      <td>-0.013833</td>\n",
       "      <td>-13.430810</td>\n",
       "      <td>-1.812056</td>\n",
       "      <td>-76.249725</td>\n",
       "      <td>-10.598813</td>\n",
       "      <td>-0.138845</td>\n",
       "      <td>-6.467768</td>\n",
       "      <td>-13.085795</td>\n",
       "      <td>-19.896683</td>\n",
       "      <td>-5.733637</td>\n",
       "    </tr>\n",
       "    <tr>\n",
       "      <th>std</th>\n",
       "      <td>6.908784e+05</td>\n",
       "      <td>0.0</td>\n",
       "      <td>0.0</td>\n",
       "      <td>0.0</td>\n",
       "      <td>460.640461</td>\n",
       "      <td>479.776947</td>\n",
       "      <td>501.961981</td>\n",
       "      <td>459.644368</td>\n",
       "      <td>479.993989</td>\n",
       "      <td>458.448598</td>\n",
       "      <td>...</td>\n",
       "      <td>0.174520</td>\n",
       "      <td>221.899902</td>\n",
       "      <td>6.755899</td>\n",
       "      <td>418.479122</td>\n",
       "      <td>136.893018</td>\n",
       "      <td>2.214561</td>\n",
       "      <td>78.343307</td>\n",
       "      <td>148.249896</td>\n",
       "      <td>256.114926</td>\n",
       "      <td>624.877555</td>\n",
       "    </tr>\n",
       "    <tr>\n",
       "      <th>min</th>\n",
       "      <td>7.000000e+09</td>\n",
       "      <td>0.0</td>\n",
       "      <td>0.0</td>\n",
       "      <td>0.0</td>\n",
       "      <td>-2258.709000</td>\n",
       "      <td>-2014.045000</td>\n",
       "      <td>-945.808000</td>\n",
       "      <td>0.000000</td>\n",
       "      <td>0.000000</td>\n",
       "      <td>0.000000</td>\n",
       "      <td>...</td>\n",
       "      <td>-16.280000</td>\n",
       "      <td>-5710.150000</td>\n",
       "      <td>-147.500000</td>\n",
       "      <td>-6950.000000</td>\n",
       "      <td>-3010.000000</td>\n",
       "      <td>-30.500000</td>\n",
       "      <td>-1303.000000</td>\n",
       "      <td>-3486.500000</td>\n",
       "      <td>-4740.925000</td>\n",
       "      <td>-12385.505000</td>\n",
       "    </tr>\n",
       "    <tr>\n",
       "      <th>25%</th>\n",
       "      <td>7.000609e+09</td>\n",
       "      <td>0.0</td>\n",
       "      <td>0.0</td>\n",
       "      <td>0.0</td>\n",
       "      <td>309.865000</td>\n",
       "      <td>309.826000</td>\n",
       "      <td>231.473000</td>\n",
       "      <td>17.080000</td>\n",
       "      <td>16.030000</td>\n",
       "      <td>10.390000</td>\n",
       "      <td>...</td>\n",
       "      <td>0.000000</td>\n",
       "      <td>-67.230000</td>\n",
       "      <td>-4.000000</td>\n",
       "      <td>-245.000000</td>\n",
       "      <td>-33.000000</td>\n",
       "      <td>-0.500000</td>\n",
       "      <td>-7.000000</td>\n",
       "      <td>-59.000000</td>\n",
       "      <td>-21.120000</td>\n",
       "      <td>-2.270000</td>\n",
       "    </tr>\n",
       "    <tr>\n",
       "      <th>50%</th>\n",
       "      <td>7.001203e+09</td>\n",
       "      <td>0.0</td>\n",
       "      <td>0.0</td>\n",
       "      <td>0.0</td>\n",
       "      <td>481.694000</td>\n",
       "      <td>480.943000</td>\n",
       "      <td>427.585000</td>\n",
       "      <td>84.580000</td>\n",
       "      <td>82.810000</td>\n",
       "      <td>65.610000</td>\n",
       "      <td>...</td>\n",
       "      <td>0.000000</td>\n",
       "      <td>-5.610000</td>\n",
       "      <td>-1.500000</td>\n",
       "      <td>-57.500000</td>\n",
       "      <td>0.000000</td>\n",
       "      <td>0.000000</td>\n",
       "      <td>0.000000</td>\n",
       "      <td>0.000000</td>\n",
       "      <td>0.000000</td>\n",
       "      <td>0.000000</td>\n",
       "    </tr>\n",
       "    <tr>\n",
       "      <th>75%</th>\n",
       "      <td>7.001804e+09</td>\n",
       "      <td>0.0</td>\n",
       "      <td>0.0</td>\n",
       "      <td>0.0</td>\n",
       "      <td>699.943000</td>\n",
       "      <td>698.315000</td>\n",
       "      <td>661.491000</td>\n",
       "      <td>290.440000</td>\n",
       "      <td>290.240000</td>\n",
       "      <td>239.960000</td>\n",
       "      <td>...</td>\n",
       "      <td>0.000000</td>\n",
       "      <td>44.280000</td>\n",
       "      <td>1.000000</td>\n",
       "      <td>99.500000</td>\n",
       "      <td>25.000000</td>\n",
       "      <td>0.000000</td>\n",
       "      <td>0.000000</td>\n",
       "      <td>9.500000</td>\n",
       "      <td>0.000000</td>\n",
       "      <td>0.000000</td>\n",
       "    </tr>\n",
       "    <tr>\n",
       "      <th>max</th>\n",
       "      <td>7.002411e+09</td>\n",
       "      <td>0.0</td>\n",
       "      <td>0.0</td>\n",
       "      <td>0.0</td>\n",
       "      <td>27731.088000</td>\n",
       "      <td>35145.834000</td>\n",
       "      <td>33543.624000</td>\n",
       "      <td>7376.710000</td>\n",
       "      <td>8157.780000</td>\n",
       "      <td>10752.560000</td>\n",
       "      <td>...</td>\n",
       "      <td>4.450000</td>\n",
       "      <td>3485.370000</td>\n",
       "      <td>130.500000</td>\n",
       "      <td>14344.500000</td>\n",
       "      <td>3949.000000</td>\n",
       "      <td>52.500000</td>\n",
       "      <td>1352.000000</td>\n",
       "      <td>1805.000000</td>\n",
       "      <td>8062.295000</td>\n",
       "      <td>15646.390000</td>\n",
       "    </tr>\n",
       "  </tbody>\n",
       "</table>\n",
       "<p>8 rows × 174 columns</p>\n",
       "</div>"
      ],
      "text/plain": [
       "       mobile_number  loc_og_t2o_mou  std_og_t2o_mou  loc_ic_t2o_mou        arpu_6        arpu_7        arpu_8   onnet_mou_6   onnet_mou_7   onnet_mou_8  ...  spl_ic_mou_diff  total_ic_mou_diff  total_rech_num_diff  total_rech_amt_diff  max_rech_amt_diff  total_rech_data_diff  max_rech_data_diff  av_rech_amt_data_diff  vol_2g_mb_diff  vol_3g_mb_diff\n",
       "count   3.000100e+04         30001.0         30001.0         30001.0  30001.000000  30001.000000  30001.000000  30001.000000  30001.000000  30001.000000  ...     30001.000000       30001.000000         30001.000000         30001.000000       30001.000000          30001.000000        30001.000000           30001.000000    30001.000000    30001.000000\n",
       "mean    7.001206e+09             0.0             0.0             0.0    558.490824    560.782203    508.597957    260.793024    267.819295    234.112539  ...        -0.013833         -13.430810            -1.812056           -76.249725         -10.598813             -0.138845           -6.467768             -13.085795      -19.896683       -5.733637\n",
       "std     6.908784e+05             0.0             0.0             0.0    460.640461    479.776947    501.961981    459.644368    479.993989    458.448598  ...         0.174520         221.899902             6.755899           418.479122         136.893018              2.214561           78.343307             148.249896      256.114926      624.877555\n",
       "min     7.000000e+09             0.0             0.0             0.0  -2258.709000  -2014.045000   -945.808000      0.000000      0.000000      0.000000  ...       -16.280000       -5710.150000          -147.500000         -6950.000000       -3010.000000            -30.500000        -1303.000000           -3486.500000    -4740.925000   -12385.505000\n",
       "25%     7.000609e+09             0.0             0.0             0.0    309.865000    309.826000    231.473000     17.080000     16.030000     10.390000  ...         0.000000         -67.230000            -4.000000          -245.000000         -33.000000             -0.500000           -7.000000             -59.000000      -21.120000       -2.270000\n",
       "50%     7.001203e+09             0.0             0.0             0.0    481.694000    480.943000    427.585000     84.580000     82.810000     65.610000  ...         0.000000          -5.610000            -1.500000           -57.500000           0.000000              0.000000            0.000000               0.000000        0.000000        0.000000\n",
       "75%     7.001804e+09             0.0             0.0             0.0    699.943000    698.315000    661.491000    290.440000    290.240000    239.960000  ...         0.000000          44.280000             1.000000            99.500000          25.000000              0.000000            0.000000               9.500000        0.000000        0.000000\n",
       "max     7.002411e+09             0.0             0.0             0.0  27731.088000  35145.834000  33543.624000   7376.710000   8157.780000  10752.560000  ...         4.450000        3485.370000           130.500000         14344.500000        3949.000000             52.500000         1352.000000            1805.000000     8062.295000    15646.390000\n",
       "\n",
       "[8 rows x 174 columns]"
      ]
     },
     "execution_count": 48,
     "metadata": {},
     "output_type": "execute_result"
    }
   ],
   "source": [
    "telecom_churn_filtered.describe()"
   ]
  },
  {
   "cell_type": "code",
   "execution_count": 49,
   "metadata": {},
   "outputs": [],
   "source": [
    "telecom_churn_filtered.drop('mobile_number',axis=1,inplace=True)"
   ]
  },
  {
   "cell_type": "code",
   "execution_count": 50,
   "metadata": {},
   "outputs": [],
   "source": [
    "from pandas.api.types import is_numeric_dtype"
   ]
  },
  {
   "cell_type": "code",
   "execution_count": 51,
   "metadata": {},
   "outputs": [
    {
     "name": "stdout",
     "output_type": "stream",
     "text": [
      "<class 'pandas.core.frame.DataFrame'>\n",
      "Int64Index: 30001 entries, 0 to 99997\n",
      "Columns: 173 entries, loc_og_t2o_mou to vol_3g_mb_diff\n",
      "dtypes: float64(147), int64(26)\n",
      "memory usage: 41.1 MB\n"
     ]
    }
   ],
   "source": [
    "telecom_churn_filtered.info()"
   ]
  },
  {
   "cell_type": "code",
   "execution_count": 52,
   "metadata": {},
   "outputs": [
    {
     "data": {
      "text/html": [
       "<div>\n",
       "<style scoped>\n",
       "    .dataframe tbody tr th:only-of-type {\n",
       "        vertical-align: middle;\n",
       "    }\n",
       "\n",
       "    .dataframe tbody tr th {\n",
       "        vertical-align: top;\n",
       "    }\n",
       "\n",
       "    .dataframe thead th {\n",
       "        text-align: right;\n",
       "    }\n",
       "</style>\n",
       "<table border=\"1\" class=\"dataframe\">\n",
       "  <thead>\n",
       "    <tr style=\"text-align: right;\">\n",
       "      <th></th>\n",
       "      <th>loc_og_t2o_mou</th>\n",
       "      <th>std_og_t2o_mou</th>\n",
       "      <th>loc_ic_t2o_mou</th>\n",
       "      <th>arpu_6</th>\n",
       "      <th>arpu_7</th>\n",
       "      <th>arpu_8</th>\n",
       "      <th>onnet_mou_6</th>\n",
       "      <th>onnet_mou_7</th>\n",
       "      <th>onnet_mou_8</th>\n",
       "      <th>offnet_mou_6</th>\n",
       "      <th>...</th>\n",
       "      <th>spl_ic_mou_diff</th>\n",
       "      <th>total_ic_mou_diff</th>\n",
       "      <th>total_rech_num_diff</th>\n",
       "      <th>total_rech_amt_diff</th>\n",
       "      <th>max_rech_amt_diff</th>\n",
       "      <th>total_rech_data_diff</th>\n",
       "      <th>max_rech_data_diff</th>\n",
       "      <th>av_rech_amt_data_diff</th>\n",
       "      <th>vol_2g_mb_diff</th>\n",
       "      <th>vol_3g_mb_diff</th>\n",
       "    </tr>\n",
       "  </thead>\n",
       "  <tbody>\n",
       "    <tr>\n",
       "      <th>count</th>\n",
       "      <td>30001.0</td>\n",
       "      <td>30001.0</td>\n",
       "      <td>30001.0</td>\n",
       "      <td>30001.000000</td>\n",
       "      <td>30001.000000</td>\n",
       "      <td>30001.000000</td>\n",
       "      <td>30001.000000</td>\n",
       "      <td>30001.000000</td>\n",
       "      <td>30001.000000</td>\n",
       "      <td>30001.000000</td>\n",
       "      <td>...</td>\n",
       "      <td>30001.000000</td>\n",
       "      <td>30001.000000</td>\n",
       "      <td>30001.000000</td>\n",
       "      <td>30001.000000</td>\n",
       "      <td>30001.000000</td>\n",
       "      <td>30001.000000</td>\n",
       "      <td>30001.000000</td>\n",
       "      <td>30001.000000</td>\n",
       "      <td>30001.000000</td>\n",
       "      <td>30001.000000</td>\n",
       "    </tr>\n",
       "    <tr>\n",
       "      <th>mean</th>\n",
       "      <td>0.0</td>\n",
       "      <td>0.0</td>\n",
       "      <td>0.0</td>\n",
       "      <td>558.490824</td>\n",
       "      <td>560.782203</td>\n",
       "      <td>508.597957</td>\n",
       "      <td>260.793024</td>\n",
       "      <td>267.819295</td>\n",
       "      <td>234.112539</td>\n",
       "      <td>373.693961</td>\n",
       "      <td>...</td>\n",
       "      <td>-0.013833</td>\n",
       "      <td>-13.430810</td>\n",
       "      <td>-1.812056</td>\n",
       "      <td>-76.249725</td>\n",
       "      <td>-10.598813</td>\n",
       "      <td>-0.138845</td>\n",
       "      <td>-6.467768</td>\n",
       "      <td>-13.085795</td>\n",
       "      <td>-19.896683</td>\n",
       "      <td>-5.733637</td>\n",
       "    </tr>\n",
       "    <tr>\n",
       "      <th>std</th>\n",
       "      <td>0.0</td>\n",
       "      <td>0.0</td>\n",
       "      <td>0.0</td>\n",
       "      <td>460.640461</td>\n",
       "      <td>479.776947</td>\n",
       "      <td>501.961981</td>\n",
       "      <td>459.644368</td>\n",
       "      <td>479.993989</td>\n",
       "      <td>458.448598</td>\n",
       "      <td>482.523558</td>\n",
       "      <td>...</td>\n",
       "      <td>0.174520</td>\n",
       "      <td>221.899902</td>\n",
       "      <td>6.755899</td>\n",
       "      <td>418.479122</td>\n",
       "      <td>136.893018</td>\n",
       "      <td>2.214561</td>\n",
       "      <td>78.343307</td>\n",
       "      <td>148.249896</td>\n",
       "      <td>256.114926</td>\n",
       "      <td>624.877555</td>\n",
       "    </tr>\n",
       "    <tr>\n",
       "      <th>min</th>\n",
       "      <td>0.0</td>\n",
       "      <td>0.0</td>\n",
       "      <td>0.0</td>\n",
       "      <td>-2258.709000</td>\n",
       "      <td>-2014.045000</td>\n",
       "      <td>-945.808000</td>\n",
       "      <td>0.000000</td>\n",
       "      <td>0.000000</td>\n",
       "      <td>0.000000</td>\n",
       "      <td>0.000000</td>\n",
       "      <td>...</td>\n",
       "      <td>-16.280000</td>\n",
       "      <td>-5710.150000</td>\n",
       "      <td>-147.500000</td>\n",
       "      <td>-6950.000000</td>\n",
       "      <td>-3010.000000</td>\n",
       "      <td>-30.500000</td>\n",
       "      <td>-1303.000000</td>\n",
       "      <td>-3486.500000</td>\n",
       "      <td>-4740.925000</td>\n",
       "      <td>-12385.505000</td>\n",
       "    </tr>\n",
       "    <tr>\n",
       "      <th>25%</th>\n",
       "      <td>0.0</td>\n",
       "      <td>0.0</td>\n",
       "      <td>0.0</td>\n",
       "      <td>309.865000</td>\n",
       "      <td>309.826000</td>\n",
       "      <td>231.473000</td>\n",
       "      <td>17.080000</td>\n",
       "      <td>16.030000</td>\n",
       "      <td>10.390000</td>\n",
       "      <td>71.610000</td>\n",
       "      <td>...</td>\n",
       "      <td>0.000000</td>\n",
       "      <td>-67.230000</td>\n",
       "      <td>-4.000000</td>\n",
       "      <td>-245.000000</td>\n",
       "      <td>-33.000000</td>\n",
       "      <td>-0.500000</td>\n",
       "      <td>-7.000000</td>\n",
       "      <td>-59.000000</td>\n",
       "      <td>-21.120000</td>\n",
       "      <td>-2.270000</td>\n",
       "    </tr>\n",
       "    <tr>\n",
       "      <th>50%</th>\n",
       "      <td>0.0</td>\n",
       "      <td>0.0</td>\n",
       "      <td>0.0</td>\n",
       "      <td>481.694000</td>\n",
       "      <td>480.943000</td>\n",
       "      <td>427.585000</td>\n",
       "      <td>84.580000</td>\n",
       "      <td>82.810000</td>\n",
       "      <td>65.610000</td>\n",
       "      <td>222.540000</td>\n",
       "      <td>...</td>\n",
       "      <td>0.000000</td>\n",
       "      <td>-5.610000</td>\n",
       "      <td>-1.500000</td>\n",
       "      <td>-57.500000</td>\n",
       "      <td>0.000000</td>\n",
       "      <td>0.000000</td>\n",
       "      <td>0.000000</td>\n",
       "      <td>0.000000</td>\n",
       "      <td>0.000000</td>\n",
       "      <td>0.000000</td>\n",
       "    </tr>\n",
       "    <tr>\n",
       "      <th>75%</th>\n",
       "      <td>0.0</td>\n",
       "      <td>0.0</td>\n",
       "      <td>0.0</td>\n",
       "      <td>699.943000</td>\n",
       "      <td>698.315000</td>\n",
       "      <td>661.491000</td>\n",
       "      <td>290.440000</td>\n",
       "      <td>290.240000</td>\n",
       "      <td>239.960000</td>\n",
       "      <td>487.940000</td>\n",
       "      <td>...</td>\n",
       "      <td>0.000000</td>\n",
       "      <td>44.280000</td>\n",
       "      <td>1.000000</td>\n",
       "      <td>99.500000</td>\n",
       "      <td>25.000000</td>\n",
       "      <td>0.000000</td>\n",
       "      <td>0.000000</td>\n",
       "      <td>9.500000</td>\n",
       "      <td>0.000000</td>\n",
       "      <td>0.000000</td>\n",
       "    </tr>\n",
       "    <tr>\n",
       "      <th>max</th>\n",
       "      <td>0.0</td>\n",
       "      <td>0.0</td>\n",
       "      <td>0.0</td>\n",
       "      <td>27731.088000</td>\n",
       "      <td>35145.834000</td>\n",
       "      <td>33543.624000</td>\n",
       "      <td>7376.710000</td>\n",
       "      <td>8157.780000</td>\n",
       "      <td>10752.560000</td>\n",
       "      <td>8362.360000</td>\n",
       "      <td>...</td>\n",
       "      <td>4.450000</td>\n",
       "      <td>3485.370000</td>\n",
       "      <td>130.500000</td>\n",
       "      <td>14344.500000</td>\n",
       "      <td>3949.000000</td>\n",
       "      <td>52.500000</td>\n",
       "      <td>1352.000000</td>\n",
       "      <td>1805.000000</td>\n",
       "      <td>8062.295000</td>\n",
       "      <td>15646.390000</td>\n",
       "    </tr>\n",
       "  </tbody>\n",
       "</table>\n",
       "<p>8 rows × 173 columns</p>\n",
       "</div>"
      ],
      "text/plain": [
       "       loc_og_t2o_mou  std_og_t2o_mou  loc_ic_t2o_mou        arpu_6        arpu_7        arpu_8   onnet_mou_6   onnet_mou_7   onnet_mou_8  offnet_mou_6  ...  spl_ic_mou_diff  total_ic_mou_diff  total_rech_num_diff  total_rech_amt_diff  max_rech_amt_diff  total_rech_data_diff  max_rech_data_diff  av_rech_amt_data_diff  vol_2g_mb_diff  vol_3g_mb_diff\n",
       "count         30001.0         30001.0         30001.0  30001.000000  30001.000000  30001.000000  30001.000000  30001.000000  30001.000000  30001.000000  ...     30001.000000       30001.000000         30001.000000         30001.000000       30001.000000          30001.000000        30001.000000           30001.000000    30001.000000    30001.000000\n",
       "mean              0.0             0.0             0.0    558.490824    560.782203    508.597957    260.793024    267.819295    234.112539    373.693961  ...        -0.013833         -13.430810            -1.812056           -76.249725         -10.598813             -0.138845           -6.467768             -13.085795      -19.896683       -5.733637\n",
       "std               0.0             0.0             0.0    460.640461    479.776947    501.961981    459.644368    479.993989    458.448598    482.523558  ...         0.174520         221.899902             6.755899           418.479122         136.893018              2.214561           78.343307             148.249896      256.114926      624.877555\n",
       "min               0.0             0.0             0.0  -2258.709000  -2014.045000   -945.808000      0.000000      0.000000      0.000000      0.000000  ...       -16.280000       -5710.150000          -147.500000         -6950.000000       -3010.000000            -30.500000        -1303.000000           -3486.500000    -4740.925000   -12385.505000\n",
       "25%               0.0             0.0             0.0    309.865000    309.826000    231.473000     17.080000     16.030000     10.390000     71.610000  ...         0.000000         -67.230000            -4.000000          -245.000000         -33.000000             -0.500000           -7.000000             -59.000000      -21.120000       -2.270000\n",
       "50%               0.0             0.0             0.0    481.694000    480.943000    427.585000     84.580000     82.810000     65.610000    222.540000  ...         0.000000          -5.610000            -1.500000           -57.500000           0.000000              0.000000            0.000000               0.000000        0.000000        0.000000\n",
       "75%               0.0             0.0             0.0    699.943000    698.315000    661.491000    290.440000    290.240000    239.960000    487.940000  ...         0.000000          44.280000             1.000000            99.500000          25.000000              0.000000            0.000000               9.500000        0.000000        0.000000\n",
       "max               0.0             0.0             0.0  27731.088000  35145.834000  33543.624000   7376.710000   8157.780000  10752.560000   8362.360000  ...         4.450000        3485.370000           130.500000         14344.500000        3949.000000             52.500000         1352.000000            1805.000000     8062.295000    15646.390000\n",
       "\n",
       "[8 rows x 173 columns]"
      ]
     },
     "execution_count": 52,
     "metadata": {},
     "output_type": "execute_result"
    }
   ],
   "source": [
    "telecom_churn_filtered.describe(include='all')"
   ]
  },
  {
   "cell_type": "markdown",
   "metadata": {},
   "source": [
    "## Step 8: Train Test Split"
   ]
  },
  {
   "cell_type": "code",
   "execution_count": 53,
   "metadata": {},
   "outputs": [],
   "source": [
    "from sklearn.model_selection import train_test_split"
   ]
  },
  {
   "cell_type": "code",
   "execution_count": 54,
   "metadata": {},
   "outputs": [],
   "source": [
    "telecom_churn_filtered['churn'] = pd.to_numeric(telecom_churn_filtered['churn'])"
   ]
  },
  {
   "cell_type": "code",
   "execution_count": 55,
   "metadata": {},
   "outputs": [],
   "source": [
    "X = telecom_churn_filtered.drop(\"churn\", axis = 1)\n",
    "y = telecom_churn_filtered.churn\n",
    "X_train, X_test, y_train, y_test = train_test_split(X, y, test_size = 0.25, random_state = 4, stratify = y)"
   ]
  },
  {
   "cell_type": "code",
   "execution_count": 56,
   "metadata": {},
   "outputs": [
    {
     "data": {
      "text/plain": [
       "(22500, 172)"
      ]
     },
     "execution_count": 56,
     "metadata": {},
     "output_type": "execute_result"
    }
   ],
   "source": [
    "# print shapes of train and test sets\n",
    "X_train.shape"
   ]
  },
  {
   "cell_type": "code",
   "execution_count": 57,
   "metadata": {},
   "outputs": [
    {
     "data": {
      "text/plain": [
       "(7501, 172)"
      ]
     },
     "execution_count": 57,
     "metadata": {},
     "output_type": "execute_result"
    }
   ],
   "source": [
    "X_test.shape"
   ]
  },
  {
   "cell_type": "code",
   "execution_count": 58,
   "metadata": {},
   "outputs": [
    {
     "data": {
      "text/plain": [
       "(22500,)"
      ]
     },
     "execution_count": 58,
     "metadata": {},
     "output_type": "execute_result"
    }
   ],
   "source": [
    "y_train.shape"
   ]
  },
  {
   "cell_type": "code",
   "execution_count": 59,
   "metadata": {},
   "outputs": [
    {
     "data": {
      "text/plain": [
       "(7501,)"
      ]
     },
     "execution_count": 59,
     "metadata": {},
     "output_type": "execute_result"
    }
   ],
   "source": [
    "y_test.shape"
   ]
  },
  {
   "cell_type": "code",
   "execution_count": 60,
   "metadata": {},
   "outputs": [],
   "source": [
    "## Modelling Part\n",
    "from sklearn.linear_model import LogisticRegression\n",
    "from sklearn import metrics"
   ]
  },
  {
   "cell_type": "code",
   "execution_count": 61,
   "metadata": {},
   "outputs": [
    {
     "name": "stdout",
     "output_type": "stream",
     "text": [
      "Accuracy : 0.9304092787628316\n",
      "Sensitivity/Recall : 0.33114754098360655\n"
     ]
    }
   ],
   "source": [
    "logreg = LogisticRegression()\n",
    "logreg.fit(X_train, y_train)\n",
    "\n",
    "y_pred = logreg.predict(X_test)\n",
    "\n",
    "print(\"Accuracy : {0}\".format(metrics.accuracy_score(y_test, y_pred)))\n",
    "print(\"Sensitivity/Recall : {0}\".format(metrics.recall_score(y_test, y_pred)))"
   ]
  },
  {
   "cell_type": "code",
   "execution_count": 62,
   "metadata": {},
   "outputs": [
    {
     "name": "stdout",
     "output_type": "stream",
     "text": [
      "Accuracy : 0.9304092787628316\n",
      "Sensitivity/Recall : 0.33114754098360655\n"
     ]
    }
   ],
   "source": [
    "logreg = LogisticRegression(penalty='l2')\n",
    "logreg.fit(X_train, y_train)\n",
    "\n",
    "y_pred = logreg.predict(X_test)\n",
    "\n",
    "print(\"Accuracy : {0}\".format(metrics.accuracy_score(y_test, y_pred)))\n",
    "print(\"Sensitivity/Recall : {0}\".format(metrics.recall_score(y_test, y_pred)))"
   ]
  },
  {
   "cell_type": "code",
   "execution_count": 63,
   "metadata": {
    "scrolled": true
   },
   "outputs": [
    {
     "name": "stdout",
     "output_type": "stream",
     "text": [
      "Accuracy : 0.8101586455139315\n",
      "Sensitivity/Recall : 0.8426229508196721\n"
     ]
    }
   ],
   "source": [
    "logreg = LogisticRegression(penalty='l1', C = 0.1, class_weight = 'balanced')\n",
    "logreg.fit(X_train, y_train)\n",
    "\n",
    "y_pred = logreg.predict(X_test)\n",
    "\n",
    "print(\"Accuracy : {0}\".format(metrics.accuracy_score(y_test, y_pred)))\n",
    "print(\"Sensitivity/Recall : {0}\".format(metrics.recall_score(y_test, y_pred)))"
   ]
  },
  {
   "cell_type": "code",
   "execution_count": 64,
   "metadata": {},
   "outputs": [
    {
     "name": "stdout",
     "output_type": "stream",
     "text": [
      "Accuracy : 0.8108252233035596\n",
      "Sensitivity/Recall : 0.839344262295082\n"
     ]
    }
   ],
   "source": [
    "logreg = LogisticRegression(penalty='l2', C = 0.01, class_weight = 'balanced')\n",
    "logreg.fit(X_train, y_train)\n",
    "\n",
    "y_pred = logreg.predict(X_test)\n",
    "\n",
    "print(\"Accuracy : {0}\".format(metrics.accuracy_score(y_test, y_pred)))\n",
    "print(\"Sensitivity/Recall : {0}\".format(metrics.recall_score(y_test, y_pred)))"
   ]
  },
  {
   "cell_type": "markdown",
   "metadata": {},
   "source": [
    "## Step 9: PCA"
   ]
  },
  {
   "cell_type": "code",
   "execution_count": 65,
   "metadata": {},
   "outputs": [],
   "source": [
    "from sklearn.pipeline import Pipeline"
   ]
  },
  {
   "cell_type": "code",
   "execution_count": 66,
   "metadata": {},
   "outputs": [],
   "source": [
    "from sklearn.pipeline import FeatureUnion\n",
    "from sklearn.decomposition import PCA"
   ]
  },
  {
   "cell_type": "code",
   "execution_count": 67,
   "metadata": {},
   "outputs": [],
   "source": [
    "pca = PCA(svd_solver='randomized', random_state=42)"
   ]
  },
  {
   "cell_type": "code",
   "execution_count": 68,
   "metadata": {},
   "outputs": [
    {
     "data": {
      "text/plain": [
       "PCA(copy=True, iterated_power='auto', n_components=None, random_state=42,\n",
       "  svd_solver='randomized', tol=0.0, whiten=False)"
      ]
     },
     "execution_count": 68,
     "metadata": {},
     "output_type": "execute_result"
    }
   ],
   "source": [
    "pca.fit(X_train)"
   ]
  },
  {
   "cell_type": "code",
   "execution_count": 69,
   "metadata": {},
   "outputs": [
    {
     "data": {
      "text/plain": [
       "array([[ 9.81226448e-17, -1.11022302e-16, -2.77555756e-17, ...,\n",
       "         8.31304839e-03,  7.31509475e-03,  1.67965674e-02],\n",
       "       [-1.94120031e-17, -5.55111512e-17, -1.11022302e-16, ...,\n",
       "         2.97134433e-03,  4.13438706e-03,  2.33711465e-02],\n",
       "       [-4.87811950e-18, -1.04083409e-17, -1.66533454e-16, ...,\n",
       "         2.08396505e-02,  7.37185548e-03,  7.99034894e-02],\n",
       "       ...,\n",
       "       [ 0.00000000e+00,  3.14816381e-02, -2.52825776e-02, ...,\n",
       "         3.62970696e-05,  7.60171603e-03,  1.11854453e-03],\n",
       "       [-0.00000000e+00,  2.38914078e-02,  5.67083702e-02, ...,\n",
       "        -2.25125495e-03,  3.50235537e-03,  9.89708997e-04],\n",
       "       [-9.99999908e-01,  3.33777368e-05, -4.12600919e-05, ...,\n",
       "        -2.29259565e-05, -1.52342435e-05, -1.32488806e-04]])"
      ]
     },
     "execution_count": 69,
     "metadata": {},
     "output_type": "execute_result"
    }
   ],
   "source": [
    "pca.components_"
   ]
  },
  {
   "cell_type": "code",
   "execution_count": 70,
   "metadata": {},
   "outputs": [],
   "source": [
    "# apply pca to train data\n",
    "from sklearn.preprocessing import StandardScaler\n",
    "pca = Pipeline([('scaler', StandardScaler()), ('pca', PCA())])"
   ]
  },
  {
   "cell_type": "code",
   "execution_count": 71,
   "metadata": {},
   "outputs": [],
   "source": [
    "pca.fit(X_train)\n",
    "churn_pca = pca.fit_transform(X_train)"
   ]
  },
  {
   "cell_type": "code",
   "execution_count": 72,
   "metadata": {},
   "outputs": [
    {
     "name": "stdout",
     "output_type": "stream",
     "text": [
      "0        9.93\n",
      "1       17.74\n",
      "2       23.28\n",
      "3       27.87\n",
      "4       31.78\n",
      "5       35.39\n",
      "6       38.32\n",
      "7       40.87\n",
      "8       43.30\n",
      "9       45.52\n",
      "10      47.59\n",
      "11      49.60\n",
      "12      51.52\n",
      "13      53.28\n",
      "14      55.01\n",
      "15      56.72\n",
      "16      58.35\n",
      "17      59.84\n",
      "18      61.29\n",
      "19      62.60\n",
      "20      63.85\n",
      "21      65.06\n",
      "22      66.25\n",
      "23      67.42\n",
      "24      68.56\n",
      "25      69.65\n",
      "26      70.71\n",
      "27      71.74\n",
      "28      72.73\n",
      "29      73.72\n",
      "        ...  \n",
      "142    100.00\n",
      "143    100.00\n",
      "144    100.00\n",
      "145    100.00\n",
      "146    100.00\n",
      "147    100.00\n",
      "148    100.00\n",
      "149    100.00\n",
      "150    100.00\n",
      "151    100.00\n",
      "152    100.00\n",
      "153    100.00\n",
      "154    100.00\n",
      "155    100.00\n",
      "156    100.00\n",
      "157    100.00\n",
      "158    100.00\n",
      "159    100.00\n",
      "160    100.00\n",
      "161    100.00\n",
      "162    100.00\n",
      "163    100.00\n",
      "164    100.00\n",
      "165    100.00\n",
      "166    100.00\n",
      "167    100.00\n",
      "168    100.00\n",
      "169    100.00\n",
      "170    100.00\n",
      "171    100.00\n",
      "Length: 172, dtype: float64\n"
     ]
    }
   ],
   "source": [
    "pca = pca.named_steps['pca']\n",
    "\n",
    "# look at explainded variance of PCA components\n",
    "print(pd.Series(np.round(pca.explained_variance_ratio_.cumsum(), 4)*100))"
   ]
  },
  {
   "cell_type": "code",
   "execution_count": 73,
   "metadata": {},
   "outputs": [
    {
     "data": {
      "text/plain": [
       "[<matplotlib.lines.Line2D at 0x19e0906e978>]"
      ]
     },
     "execution_count": 73,
     "metadata": {},
     "output_type": "execute_result"
    },
    {
     "data": {
      "image/png": "[encoded data removed]",
      "text/plain": [
       "<Figure size 630x360 with 1 Axes>"
      ]
     },
     "metadata": {
      "needs_background": "light"
     },
     "output_type": "display_data"
    }
   ],
   "source": [
    "# plot feature variance\n",
    "features = range(pca.n_components_)\n",
    "cumulative_variance = np.round(np.cumsum(pca.explained_variance_ratio_)*100, decimals=4)\n",
    "plt.figure(figsize=(175/20,100/20)) # 100 elements on y-axis; 175 elements on x-axis; 20 is normalising factor\n",
    "plt.plot(cumulative_variance)"
   ]
  },
  {
   "cell_type": "markdown",
   "metadata": {},
   "source": [
    "## Step 10: PCA and Logistic Regression\n"
   ]
  },
  {
   "cell_type": "code",
   "execution_count": 74,
   "metadata": {},
   "outputs": [],
   "source": [
    "# create pipeline\n",
    "PCA_VARS = 60\n",
    "steps = [('scaler', StandardScaler()),\n",
    "         (\"pca\", PCA(n_components=PCA_VARS)),\n",
    "         (\"logistic\", LogisticRegression(penalty='l1', C = 0.01,class_weight='balanced'))\n",
    "        ]\n",
    "pipeline = Pipeline(steps)"
   ]
  },
  {
   "cell_type": "code",
   "execution_count": 75,
   "metadata": {},
   "outputs": [
    {
     "data": {
      "text/plain": [
       "0.8106666666666666"
      ]
     },
     "execution_count": 75,
     "metadata": {},
     "output_type": "execute_result"
    }
   ],
   "source": [
    "# fit model\n",
    "pipeline.fit(X_train, y_train)\n",
    "\n",
    "# check score on train data\n",
    "pipeline.score(X_train, y_train)"
   ]
  },
  {
   "cell_type": "markdown",
   "metadata": {},
   "source": [
    "### Evaluate on test data"
   ]
  },
  {
   "cell_type": "code",
   "execution_count": 76,
   "metadata": {},
   "outputs": [
    {
     "name": "stdout",
     "output_type": "stream",
     "text": [
      "[[5525 1366]\n",
      " [ 100  510]]\n",
      "Sensitivity: \t0.84\n",
      "Specificity: \t0.8\n",
      "AUC:    \t 0.89\n"
     ]
    }
   ],
   "source": [
    "from sklearn.metrics import confusion_matrix\n",
    "from imblearn.metrics import sensitivity_specificity_support\n",
    "from sklearn.metrics import roc_auc_score\n",
    "\n",
    "# predict churn on test data\n",
    "y_pred = pipeline.predict(X_test)\n",
    "\n",
    "# create confusion matrix\n",
    "cm = confusion_matrix(y_test, y_pred)\n",
    "print(cm)\n",
    "\n",
    "# check sensitivity and specificity\n",
    "sensitivity, specificity, _ = sensitivity_specificity_support(y_test, y_pred, average='binary')\n",
    "print(\"Sensitivity: \\t\", round(sensitivity, 2), \"\\n\", \"Specificity: \\t\", round(specificity, 2), sep='')\n",
    "\n",
    "# check area under curve\n",
    "y_pred_prob = pipeline.predict_proba(X_test)[:, 1]\n",
    "print(\"AUC:    \\t\", round(roc_auc_score(y_test, y_pred_prob),2))"
   ]
  },
  {
   "cell_type": "markdown",
   "metadata": {},
   "source": [
    "### PCA and Logistic Regression Combined Tuning"
   ]
  },
  {
   "cell_type": "code",
   "execution_count": 77,
   "metadata": {},
   "outputs": [
    {
     "data": {
      "text/plain": [
       "0    0.918622\n",
       "1    0.081378\n",
       "Name: churn, dtype: float64"
      ]
     },
     "execution_count": 77,
     "metadata": {},
     "output_type": "execute_result"
    }
   ],
   "source": [
    "# class imbalance\n",
    "y_train.value_counts()/y_train.shape"
   ]
  },
  {
   "cell_type": "code",
   "execution_count": 78,
   "metadata": {},
   "outputs": [],
   "source": [
    "# PCA\n",
    "from sklearn.model_selection import StratifiedKFold\n",
    "from sklearn.model_selection import cross_val_score\n",
    "from sklearn.model_selection import GridSearchCV\n",
    "\n",
    "pca = PCA()\n",
    "\n",
    "# logistic regression - the class weight is used to handle class imbalance - it adjusts the cost function\n",
    "logistic = LogisticRegression(class_weight={0:0.1, 1: 0.9})\n",
    "\n",
    "# create pipeline\n",
    "steps = [(\"scaler\", StandardScaler()), \n",
    "         (\"pca\", pca),\n",
    "         (\"logistic\", logistic)\n",
    "        ]\n",
    "\n",
    "# compile pipeline\n",
    "pca_logistic = Pipeline(steps)\n",
    "\n",
    "# hyperparameter space\n",
    "params = {'pca__n_components': [60, 80], 'logistic__C': [0.1, 0.5, 1, 2, 3, 4, 5, 10], 'logistic__penalty': ['l1', 'l2']}\n",
    "\n",
    "# create 5 folds\n",
    "folds = StratifiedKFold(n_splits = 5, shuffle = True, random_state = 4)\n",
    "\n",
    "# create gridsearch object\n",
    "model = GridSearchCV(estimator=pca_logistic, cv=folds, param_grid=params, scoring='roc_auc', n_jobs=-1, verbose=1)"
   ]
  },
  {
   "cell_type": "code",
   "execution_count": 79,
   "metadata": {},
   "outputs": [
    {
     "name": "stdout",
     "output_type": "stream",
     "text": [
      "Fitting 5 folds for each of 32 candidates, totalling 160 fits\n"
     ]
    },
    {
     "name": "stderr",
     "output_type": "stream",
     "text": [
      "[Parallel(n_jobs=-1)]: Done  42 tasks      | elapsed:   57.7s\n",
      "[Parallel(n_jobs=-1)]: Done 160 out of 160 | elapsed:  4.2min finished\n"
     ]
    },
    {
     "data": {
      "text/plain": [
       "GridSearchCV(cv=StratifiedKFold(n_splits=5, random_state=4, shuffle=True),\n",
       "       error_score='raise',\n",
       "       estimator=Pipeline(memory=None,\n",
       "     steps=[('scaler', StandardScaler(copy=True, with_mean=True, with_std=True)), ('pca', PCA(copy=True, iterated_power='auto', n_components=None, random_state=None,\n",
       "  svd_solver='auto', tol=0.0, whiten=False)), ('logistic', LogisticRegression(C=1.0, class_weight={0: ...y='l2', random_state=None,\n",
       "          solver='liblinear', tol=0.0001, verbose=0, warm_start=False))]),\n",
       "       fit_params=None, iid=True, n_jobs=-1,\n",
       "       param_grid={'pca__n_components': [60, 80], 'logistic__C': [0.1, 0.5, 1, 2, 3, 4, 5, 10], 'logistic__penalty': ['l1', 'l2']},\n",
       "       pre_dispatch='2*n_jobs', refit=True, return_train_score='warn',\n",
       "       scoring='roc_auc', verbose=1)"
      ]
     },
     "execution_count": 79,
     "metadata": {},
     "output_type": "execute_result"
    }
   ],
   "source": [
    "\n",
    "# fit model\n",
    "model.fit(X_train, y_train)"
   ]
  },
  {
   "cell_type": "code",
   "execution_count": 80,
   "metadata": {},
   "outputs": [
    {
     "data": {
      "text/html": [
       "<div>\n",
       "<style scoped>\n",
       "    .dataframe tbody tr th:only-of-type {\n",
       "        vertical-align: middle;\n",
       "    }\n",
       "\n",
       "    .dataframe tbody tr th {\n",
       "        vertical-align: top;\n",
       "    }\n",
       "\n",
       "    .dataframe thead th {\n",
       "        text-align: right;\n",
       "    }\n",
       "</style>\n",
       "<table border=\"1\" class=\"dataframe\">\n",
       "  <thead>\n",
       "    <tr style=\"text-align: right;\">\n",
       "      <th></th>\n",
       "      <th>mean_fit_time</th>\n",
       "      <th>std_fit_time</th>\n",
       "      <th>mean_score_time</th>\n",
       "      <th>std_score_time</th>\n",
       "      <th>param_logistic__C</th>\n",
       "      <th>param_logistic__penalty</th>\n",
       "      <th>param_pca__n_components</th>\n",
       "      <th>params</th>\n",
       "      <th>split0_test_score</th>\n",
       "      <th>split1_test_score</th>\n",
       "      <th>...</th>\n",
       "      <th>mean_test_score</th>\n",
       "      <th>std_test_score</th>\n",
       "      <th>rank_test_score</th>\n",
       "      <th>split0_train_score</th>\n",
       "      <th>split1_train_score</th>\n",
       "      <th>split2_train_score</th>\n",
       "      <th>split3_train_score</th>\n",
       "      <th>split4_train_score</th>\n",
       "      <th>mean_train_score</th>\n",
       "      <th>std_train_score</th>\n",
       "    </tr>\n",
       "  </thead>\n",
       "  <tbody>\n",
       "    <tr>\n",
       "      <th>0</th>\n",
       "      <td>2.406370</td>\n",
       "      <td>0.970808</td>\n",
       "      <td>0.062797</td>\n",
       "      <td>0.007136</td>\n",
       "      <td>0.1</td>\n",
       "      <td>l1</td>\n",
       "      <td>60</td>\n",
       "      <td>{'logistic__C': 0.1, 'logistic__penalty': 'l1'...</td>\n",
       "      <td>0.888725</td>\n",
       "      <td>0.893742</td>\n",
       "      <td>...</td>\n",
       "      <td>0.885645</td>\n",
       "      <td>0.007365</td>\n",
       "      <td>32</td>\n",
       "      <td>0.891091</td>\n",
       "      <td>0.889552</td>\n",
       "      <td>0.894147</td>\n",
       "      <td>0.892683</td>\n",
       "      <td>0.891198</td>\n",
       "      <td>0.891734</td>\n",
       "      <td>0.001561</td>\n",
       "    </tr>\n",
       "    <tr>\n",
       "      <th>1</th>\n",
       "      <td>4.702679</td>\n",
       "      <td>0.419138</td>\n",
       "      <td>0.090036</td>\n",
       "      <td>0.022402</td>\n",
       "      <td>0.1</td>\n",
       "      <td>l1</td>\n",
       "      <td>80</td>\n",
       "      <td>{'logistic__C': 0.1, 'logistic__penalty': 'l1'...</td>\n",
       "      <td>0.891584</td>\n",
       "      <td>0.896236</td>\n",
       "      <td>...</td>\n",
       "      <td>0.888020</td>\n",
       "      <td>0.006812</td>\n",
       "      <td>13</td>\n",
       "      <td>0.893969</td>\n",
       "      <td>0.892153</td>\n",
       "      <td>0.898381</td>\n",
       "      <td>0.895622</td>\n",
       "      <td>0.894212</td>\n",
       "      <td>0.894867</td>\n",
       "      <td>0.002075</td>\n",
       "    </tr>\n",
       "    <tr>\n",
       "      <th>2</th>\n",
       "      <td>4.153200</td>\n",
       "      <td>0.233151</td>\n",
       "      <td>0.120815</td>\n",
       "      <td>0.035325</td>\n",
       "      <td>0.1</td>\n",
       "      <td>l2</td>\n",
       "      <td>60</td>\n",
       "      <td>{'logistic__C': 0.1, 'logistic__penalty': 'l2'...</td>\n",
       "      <td>0.890308</td>\n",
       "      <td>0.894449</td>\n",
       "      <td>...</td>\n",
       "      <td>0.886065</td>\n",
       "      <td>0.006610</td>\n",
       "      <td>31</td>\n",
       "      <td>0.893339</td>\n",
       "      <td>0.891143</td>\n",
       "      <td>0.896296</td>\n",
       "      <td>0.894702</td>\n",
       "      <td>0.894111</td>\n",
       "      <td>0.893918</td>\n",
       "      <td>0.001694</td>\n",
       "    </tr>\n",
       "    <tr>\n",
       "      <th>3</th>\n",
       "      <td>5.445918</td>\n",
       "      <td>0.799904</td>\n",
       "      <td>0.083393</td>\n",
       "      <td>0.007867</td>\n",
       "      <td>0.1</td>\n",
       "      <td>l2</td>\n",
       "      <td>80</td>\n",
       "      <td>{'logistic__C': 0.1, 'logistic__penalty': 'l2'...</td>\n",
       "      <td>0.892728</td>\n",
       "      <td>0.896564</td>\n",
       "      <td>...</td>\n",
       "      <td>0.887866</td>\n",
       "      <td>0.006419</td>\n",
       "      <td>15</td>\n",
       "      <td>0.897083</td>\n",
       "      <td>0.895063</td>\n",
       "      <td>0.900580</td>\n",
       "      <td>0.897453</td>\n",
       "      <td>0.897984</td>\n",
       "      <td>0.897633</td>\n",
       "      <td>0.001775</td>\n",
       "    </tr>\n",
       "    <tr>\n",
       "      <th>4</th>\n",
       "      <td>3.619229</td>\n",
       "      <td>0.560850</td>\n",
       "      <td>0.088228</td>\n",
       "      <td>0.014604</td>\n",
       "      <td>0.5</td>\n",
       "      <td>l1</td>\n",
       "      <td>60</td>\n",
       "      <td>{'logistic__C': 0.5, 'logistic__penalty': 'l1'...</td>\n",
       "      <td>0.890551</td>\n",
       "      <td>0.894490</td>\n",
       "      <td>...</td>\n",
       "      <td>0.886339</td>\n",
       "      <td>0.006333</td>\n",
       "      <td>29</td>\n",
       "      <td>0.893561</td>\n",
       "      <td>0.891417</td>\n",
       "      <td>0.896648</td>\n",
       "      <td>0.895446</td>\n",
       "      <td>0.894429</td>\n",
       "      <td>0.894300</td>\n",
       "      <td>0.001772</td>\n",
       "    </tr>\n",
       "    <tr>\n",
       "      <th>5</th>\n",
       "      <td>4.552198</td>\n",
       "      <td>0.854418</td>\n",
       "      <td>0.094803</td>\n",
       "      <td>0.014973</td>\n",
       "      <td>0.5</td>\n",
       "      <td>l1</td>\n",
       "      <td>80</td>\n",
       "      <td>{'logistic__C': 0.5, 'logistic__penalty': 'l1'...</td>\n",
       "      <td>0.893038</td>\n",
       "      <td>0.896949</td>\n",
       "      <td>...</td>\n",
       "      <td>0.888299</td>\n",
       "      <td>0.006581</td>\n",
       "      <td>1</td>\n",
       "      <td>0.897267</td>\n",
       "      <td>0.895162</td>\n",
       "      <td>0.900883</td>\n",
       "      <td>0.897990</td>\n",
       "      <td>0.898151</td>\n",
       "      <td>0.897891</td>\n",
       "      <td>0.001837</td>\n",
       "    </tr>\n",
       "    <tr>\n",
       "      <th>6</th>\n",
       "      <td>4.676291</td>\n",
       "      <td>0.482665</td>\n",
       "      <td>0.083401</td>\n",
       "      <td>0.022472</td>\n",
       "      <td>0.5</td>\n",
       "      <td>l2</td>\n",
       "      <td>60</td>\n",
       "      <td>{'logistic__C': 0.5, 'logistic__penalty': 'l2'...</td>\n",
       "      <td>0.891035</td>\n",
       "      <td>0.894626</td>\n",
       "      <td>...</td>\n",
       "      <td>0.886592</td>\n",
       "      <td>0.006136</td>\n",
       "      <td>26</td>\n",
       "      <td>0.894130</td>\n",
       "      <td>0.891759</td>\n",
       "      <td>0.897158</td>\n",
       "      <td>0.895281</td>\n",
       "      <td>0.894677</td>\n",
       "      <td>0.894601</td>\n",
       "      <td>0.001750</td>\n",
       "    </tr>\n",
       "    <tr>\n",
       "      <th>7</th>\n",
       "      <td>4.847880</td>\n",
       "      <td>0.178653</td>\n",
       "      <td>0.111002</td>\n",
       "      <td>0.008603</td>\n",
       "      <td>0.5</td>\n",
       "      <td>l2</td>\n",
       "      <td>80</td>\n",
       "      <td>{'logistic__C': 0.5, 'logistic__penalty': 'l2'...</td>\n",
       "      <td>0.893349</td>\n",
       "      <td>0.897178</td>\n",
       "      <td>...</td>\n",
       "      <td>0.888163</td>\n",
       "      <td>0.006643</td>\n",
       "      <td>8</td>\n",
       "      <td>0.897800</td>\n",
       "      <td>0.895673</td>\n",
       "      <td>0.901095</td>\n",
       "      <td>0.898136</td>\n",
       "      <td>0.899043</td>\n",
       "      <td>0.898349</td>\n",
       "      <td>0.001762</td>\n",
       "    </tr>\n",
       "    <tr>\n",
       "      <th>8</th>\n",
       "      <td>4.581418</td>\n",
       "      <td>1.150286</td>\n",
       "      <td>0.078124</td>\n",
       "      <td>0.007394</td>\n",
       "      <td>1</td>\n",
       "      <td>l1</td>\n",
       "      <td>60</td>\n",
       "      <td>{'logistic__C': 1, 'logistic__penalty': 'l1', ...</td>\n",
       "      <td>0.890731</td>\n",
       "      <td>0.895080</td>\n",
       "      <td>...</td>\n",
       "      <td>0.886761</td>\n",
       "      <td>0.006246</td>\n",
       "      <td>20</td>\n",
       "      <td>0.893938</td>\n",
       "      <td>0.891661</td>\n",
       "      <td>0.897400</td>\n",
       "      <td>0.895708</td>\n",
       "      <td>0.895072</td>\n",
       "      <td>0.894756</td>\n",
       "      <td>0.001910</td>\n",
       "    </tr>\n",
       "    <tr>\n",
       "      <th>9</th>\n",
       "      <td>5.018514</td>\n",
       "      <td>1.567478</td>\n",
       "      <td>0.084205</td>\n",
       "      <td>0.008911</td>\n",
       "      <td>1</td>\n",
       "      <td>l1</td>\n",
       "      <td>80</td>\n",
       "      <td>{'logistic__C': 1, 'logistic__penalty': 'l1', ...</td>\n",
       "      <td>0.893121</td>\n",
       "      <td>0.897369</td>\n",
       "      <td>...</td>\n",
       "      <td>0.888220</td>\n",
       "      <td>0.006520</td>\n",
       "      <td>6</td>\n",
       "      <td>0.897677</td>\n",
       "      <td>0.895545</td>\n",
       "      <td>0.901080</td>\n",
       "      <td>0.898123</td>\n",
       "      <td>0.900212</td>\n",
       "      <td>0.898527</td>\n",
       "      <td>0.001957</td>\n",
       "    </tr>\n",
       "    <tr>\n",
       "      <th>10</th>\n",
       "      <td>4.362503</td>\n",
       "      <td>0.678656</td>\n",
       "      <td>0.092405</td>\n",
       "      <td>0.021629</td>\n",
       "      <td>1</td>\n",
       "      <td>l2</td>\n",
       "      <td>60</td>\n",
       "      <td>{'logistic__C': 1, 'logistic__penalty': 'l2', ...</td>\n",
       "      <td>0.890927</td>\n",
       "      <td>0.895022</td>\n",
       "      <td>...</td>\n",
       "      <td>0.886732</td>\n",
       "      <td>0.006198</td>\n",
       "      <td>22</td>\n",
       "      <td>0.894285</td>\n",
       "      <td>0.892239</td>\n",
       "      <td>0.896965</td>\n",
       "      <td>0.896228</td>\n",
       "      <td>0.895010</td>\n",
       "      <td>0.894945</td>\n",
       "      <td>0.001642</td>\n",
       "    </tr>\n",
       "    <tr>\n",
       "      <th>11</th>\n",
       "      <td>5.598420</td>\n",
       "      <td>1.119223</td>\n",
       "      <td>0.085971</td>\n",
       "      <td>0.006050</td>\n",
       "      <td>1</td>\n",
       "      <td>l2</td>\n",
       "      <td>80</td>\n",
       "      <td>{'logistic__C': 1, 'logistic__penalty': 'l2', ...</td>\n",
       "      <td>0.893469</td>\n",
       "      <td>0.897022</td>\n",
       "      <td>...</td>\n",
       "      <td>0.888139</td>\n",
       "      <td>0.006635</td>\n",
       "      <td>9</td>\n",
       "      <td>0.897804</td>\n",
       "      <td>0.895753</td>\n",
       "      <td>0.901194</td>\n",
       "      <td>0.898276</td>\n",
       "      <td>0.899389</td>\n",
       "      <td>0.898483</td>\n",
       "      <td>0.001796</td>\n",
       "    </tr>\n",
       "    <tr>\n",
       "      <th>12</th>\n",
       "      <td>4.718609</td>\n",
       "      <td>0.306646</td>\n",
       "      <td>0.090951</td>\n",
       "      <td>0.015992</td>\n",
       "      <td>2</td>\n",
       "      <td>l1</td>\n",
       "      <td>60</td>\n",
       "      <td>{'logistic__C': 2, 'logistic__penalty': 'l1', ...</td>\n",
       "      <td>0.891050</td>\n",
       "      <td>0.894417</td>\n",
       "      <td>...</td>\n",
       "      <td>0.886426</td>\n",
       "      <td>0.006278</td>\n",
       "      <td>28</td>\n",
       "      <td>0.894222</td>\n",
       "      <td>0.891954</td>\n",
       "      <td>0.897098</td>\n",
       "      <td>0.895819</td>\n",
       "      <td>0.895189</td>\n",
       "      <td>0.894856</td>\n",
       "      <td>0.001726</td>\n",
       "    </tr>\n",
       "    <tr>\n",
       "      <th>13</th>\n",
       "      <td>6.063127</td>\n",
       "      <td>1.676424</td>\n",
       "      <td>0.105015</td>\n",
       "      <td>0.020986</td>\n",
       "      <td>2</td>\n",
       "      <td>l1</td>\n",
       "      <td>80</td>\n",
       "      <td>{'logistic__C': 2, 'logistic__penalty': 'l1', ...</td>\n",
       "      <td>0.893015</td>\n",
       "      <td>0.897275</td>\n",
       "      <td>...</td>\n",
       "      <td>0.888283</td>\n",
       "      <td>0.006522</td>\n",
       "      <td>2</td>\n",
       "      <td>0.897891</td>\n",
       "      <td>0.895612</td>\n",
       "      <td>0.901264</td>\n",
       "      <td>0.898234</td>\n",
       "      <td>0.899259</td>\n",
       "      <td>0.898452</td>\n",
       "      <td>0.001843</td>\n",
       "    </tr>\n",
       "    <tr>\n",
       "      <th>14</th>\n",
       "      <td>4.354394</td>\n",
       "      <td>0.828919</td>\n",
       "      <td>0.084846</td>\n",
       "      <td>0.007533</td>\n",
       "      <td>2</td>\n",
       "      <td>l2</td>\n",
       "      <td>60</td>\n",
       "      <td>{'logistic__C': 2, 'logistic__penalty': 'l2', ...</td>\n",
       "      <td>0.891114</td>\n",
       "      <td>0.894406</td>\n",
       "      <td>...</td>\n",
       "      <td>0.886446</td>\n",
       "      <td>0.006211</td>\n",
       "      <td>27</td>\n",
       "      <td>0.894365</td>\n",
       "      <td>0.892043</td>\n",
       "      <td>0.897005</td>\n",
       "      <td>0.895792</td>\n",
       "      <td>0.894978</td>\n",
       "      <td>0.894836</td>\n",
       "      <td>0.001653</td>\n",
       "    </tr>\n",
       "    <tr>\n",
       "      <th>15</th>\n",
       "      <td>6.041624</td>\n",
       "      <td>1.153798</td>\n",
       "      <td>0.093782</td>\n",
       "      <td>0.019451</td>\n",
       "      <td>2</td>\n",
       "      <td>l2</td>\n",
       "      <td>80</td>\n",
       "      <td>{'logistic__C': 2, 'logistic__penalty': 'l2', ...</td>\n",
       "      <td>0.893156</td>\n",
       "      <td>0.896883</td>\n",
       "      <td>...</td>\n",
       "      <td>0.887862</td>\n",
       "      <td>0.006546</td>\n",
       "      <td>16</td>\n",
       "      <td>0.898029</td>\n",
       "      <td>0.895621</td>\n",
       "      <td>0.901239</td>\n",
       "      <td>0.898150</td>\n",
       "      <td>0.899572</td>\n",
       "      <td>0.898522</td>\n",
       "      <td>0.001859</td>\n",
       "    </tr>\n",
       "    <tr>\n",
       "      <th>16</th>\n",
       "      <td>5.075398</td>\n",
       "      <td>1.634072</td>\n",
       "      <td>0.085404</td>\n",
       "      <td>0.013124</td>\n",
       "      <td>3</td>\n",
       "      <td>l1</td>\n",
       "      <td>60</td>\n",
       "      <td>{'logistic__C': 3, 'logistic__penalty': 'l1', ...</td>\n",
       "      <td>0.891750</td>\n",
       "      <td>0.894941</td>\n",
       "      <td>...</td>\n",
       "      <td>0.886864</td>\n",
       "      <td>0.006587</td>\n",
       "      <td>18</td>\n",
       "      <td>0.894365</td>\n",
       "      <td>0.892040</td>\n",
       "      <td>0.896970</td>\n",
       "      <td>0.895720</td>\n",
       "      <td>0.895792</td>\n",
       "      <td>0.894977</td>\n",
       "      <td>0.001684</td>\n",
       "    </tr>\n",
       "    <tr>\n",
       "      <th>17</th>\n",
       "      <td>7.264250</td>\n",
       "      <td>3.267939</td>\n",
       "      <td>0.094997</td>\n",
       "      <td>0.018506</td>\n",
       "      <td>3</td>\n",
       "      <td>l1</td>\n",
       "      <td>80</td>\n",
       "      <td>{'logistic__C': 3, 'logistic__penalty': 'l1', ...</td>\n",
       "      <td>0.893094</td>\n",
       "      <td>0.897177</td>\n",
       "      <td>...</td>\n",
       "      <td>0.888107</td>\n",
       "      <td>0.006564</td>\n",
       "      <td>10</td>\n",
       "      <td>0.897961</td>\n",
       "      <td>0.895817</td>\n",
       "      <td>0.901169</td>\n",
       "      <td>0.898236</td>\n",
       "      <td>0.899860</td>\n",
       "      <td>0.898609</td>\n",
       "      <td>0.001815</td>\n",
       "    </tr>\n",
       "    <tr>\n",
       "      <th>18</th>\n",
       "      <td>5.058064</td>\n",
       "      <td>0.915107</td>\n",
       "      <td>0.084218</td>\n",
       "      <td>0.010205</td>\n",
       "      <td>3</td>\n",
       "      <td>l2</td>\n",
       "      <td>60</td>\n",
       "      <td>{'logistic__C': 3, 'logistic__penalty': 'l2', ...</td>\n",
       "      <td>0.891345</td>\n",
       "      <td>0.894359</td>\n",
       "      <td>...</td>\n",
       "      <td>0.886825</td>\n",
       "      <td>0.006201</td>\n",
       "      <td>19</td>\n",
       "      <td>0.894533</td>\n",
       "      <td>0.891733</td>\n",
       "      <td>0.897422</td>\n",
       "      <td>0.895956</td>\n",
       "      <td>0.894723</td>\n",
       "      <td>0.894873</td>\n",
       "      <td>0.001880</td>\n",
       "    </tr>\n",
       "    <tr>\n",
       "      <th>19</th>\n",
       "      <td>6.300768</td>\n",
       "      <td>0.558427</td>\n",
       "      <td>0.083968</td>\n",
       "      <td>0.012799</td>\n",
       "      <td>3</td>\n",
       "      <td>l2</td>\n",
       "      <td>80</td>\n",
       "      <td>{'logistic__C': 3, 'logistic__penalty': 'l2', ...</td>\n",
       "      <td>0.892975</td>\n",
       "      <td>0.897344</td>\n",
       "      <td>...</td>\n",
       "      <td>0.888088</td>\n",
       "      <td>0.006546</td>\n",
       "      <td>11</td>\n",
       "      <td>0.898136</td>\n",
       "      <td>0.895828</td>\n",
       "      <td>0.901216</td>\n",
       "      <td>0.898310</td>\n",
       "      <td>0.899735</td>\n",
       "      <td>0.898645</td>\n",
       "      <td>0.001795</td>\n",
       "    </tr>\n",
       "    <tr>\n",
       "      <th>20</th>\n",
       "      <td>5.269855</td>\n",
       "      <td>0.750094</td>\n",
       "      <td>0.079221</td>\n",
       "      <td>0.010019</td>\n",
       "      <td>4</td>\n",
       "      <td>l1</td>\n",
       "      <td>60</td>\n",
       "      <td>{'logistic__C': 4, 'logistic__penalty': 'l1', ...</td>\n",
       "      <td>0.891620</td>\n",
       "      <td>0.895267</td>\n",
       "      <td>...</td>\n",
       "      <td>0.886961</td>\n",
       "      <td>0.006347</td>\n",
       "      <td>17</td>\n",
       "      <td>0.894108</td>\n",
       "      <td>0.892018</td>\n",
       "      <td>0.896764</td>\n",
       "      <td>0.895986</td>\n",
       "      <td>0.895228</td>\n",
       "      <td>0.894821</td>\n",
       "      <td>0.001653</td>\n",
       "    </tr>\n",
       "    <tr>\n",
       "      <th>21</th>\n",
       "      <td>7.724676</td>\n",
       "      <td>2.646459</td>\n",
       "      <td>0.092042</td>\n",
       "      <td>0.006068</td>\n",
       "      <td>4</td>\n",
       "      <td>l1</td>\n",
       "      <td>80</td>\n",
       "      <td>{'logistic__C': 4, 'logistic__penalty': 'l1', ...</td>\n",
       "      <td>0.892995</td>\n",
       "      <td>0.896815</td>\n",
       "      <td>...</td>\n",
       "      <td>0.888266</td>\n",
       "      <td>0.006382</td>\n",
       "      <td>5</td>\n",
       "      <td>0.897999</td>\n",
       "      <td>0.895745</td>\n",
       "      <td>0.901275</td>\n",
       "      <td>0.898053</td>\n",
       "      <td>0.899648</td>\n",
       "      <td>0.898544</td>\n",
       "      <td>0.001847</td>\n",
       "    </tr>\n",
       "    <tr>\n",
       "      <th>22</th>\n",
       "      <td>4.666137</td>\n",
       "      <td>0.919832</td>\n",
       "      <td>0.091828</td>\n",
       "      <td>0.015485</td>\n",
       "      <td>4</td>\n",
       "      <td>l2</td>\n",
       "      <td>60</td>\n",
       "      <td>{'logistic__C': 4, 'logistic__penalty': 'l2', ...</td>\n",
       "      <td>0.890903</td>\n",
       "      <td>0.893959</td>\n",
       "      <td>...</td>\n",
       "      <td>0.886293</td>\n",
       "      <td>0.006134</td>\n",
       "      <td>30</td>\n",
       "      <td>0.894342</td>\n",
       "      <td>0.891948</td>\n",
       "      <td>0.896972</td>\n",
       "      <td>0.895822</td>\n",
       "      <td>0.895249</td>\n",
       "      <td>0.894867</td>\n",
       "      <td>0.001691</td>\n",
       "    </tr>\n",
       "    <tr>\n",
       "      <th>23</th>\n",
       "      <td>6.217498</td>\n",
       "      <td>1.123767</td>\n",
       "      <td>0.093998</td>\n",
       "      <td>0.015950</td>\n",
       "      <td>4</td>\n",
       "      <td>l2</td>\n",
       "      <td>80</td>\n",
       "      <td>{'logistic__C': 4, 'logistic__penalty': 'l2', ...</td>\n",
       "      <td>0.893070</td>\n",
       "      <td>0.897650</td>\n",
       "      <td>...</td>\n",
       "      <td>0.888270</td>\n",
       "      <td>0.006720</td>\n",
       "      <td>3</td>\n",
       "      <td>0.898084</td>\n",
       "      <td>0.895874</td>\n",
       "      <td>0.901333</td>\n",
       "      <td>0.898001</td>\n",
       "      <td>0.900136</td>\n",
       "      <td>0.898685</td>\n",
       "      <td>0.001889</td>\n",
       "    </tr>\n",
       "    <tr>\n",
       "      <th>24</th>\n",
       "      <td>5.358726</td>\n",
       "      <td>1.172820</td>\n",
       "      <td>0.077013</td>\n",
       "      <td>0.003337</td>\n",
       "      <td>5</td>\n",
       "      <td>l1</td>\n",
       "      <td>60</td>\n",
       "      <td>{'logistic__C': 5, 'logistic__penalty': 'l1', ...</td>\n",
       "      <td>0.891207</td>\n",
       "      <td>0.894580</td>\n",
       "      <td>...</td>\n",
       "      <td>0.886750</td>\n",
       "      <td>0.006046</td>\n",
       "      <td>21</td>\n",
       "      <td>0.894440</td>\n",
       "      <td>0.891834</td>\n",
       "      <td>0.897224</td>\n",
       "      <td>0.896121</td>\n",
       "      <td>0.895158</td>\n",
       "      <td>0.894955</td>\n",
       "      <td>0.001820</td>\n",
       "    </tr>\n",
       "    <tr>\n",
       "      <th>25</th>\n",
       "      <td>11.455602</td>\n",
       "      <td>4.313452</td>\n",
       "      <td>0.104642</td>\n",
       "      <td>0.025504</td>\n",
       "      <td>5</td>\n",
       "      <td>l1</td>\n",
       "      <td>80</td>\n",
       "      <td>{'logistic__C': 5, 'logistic__penalty': 'l1', ...</td>\n",
       "      <td>0.892766</td>\n",
       "      <td>0.897558</td>\n",
       "      <td>...</td>\n",
       "      <td>0.888016</td>\n",
       "      <td>0.006687</td>\n",
       "      <td>14</td>\n",
       "      <td>0.898108</td>\n",
       "      <td>0.895696</td>\n",
       "      <td>0.901018</td>\n",
       "      <td>0.898265</td>\n",
       "      <td>0.899480</td>\n",
       "      <td>0.898513</td>\n",
       "      <td>0.001753</td>\n",
       "    </tr>\n",
       "    <tr>\n",
       "      <th>26</th>\n",
       "      <td>4.746328</td>\n",
       "      <td>0.523096</td>\n",
       "      <td>0.083067</td>\n",
       "      <td>0.014870</td>\n",
       "      <td>5</td>\n",
       "      <td>l2</td>\n",
       "      <td>60</td>\n",
       "      <td>{'logistic__C': 5, 'logistic__penalty': 'l2', ...</td>\n",
       "      <td>0.890986</td>\n",
       "      <td>0.895189</td>\n",
       "      <td>...</td>\n",
       "      <td>0.886715</td>\n",
       "      <td>0.006299</td>\n",
       "      <td>23</td>\n",
       "      <td>0.894019</td>\n",
       "      <td>0.891908</td>\n",
       "      <td>0.897109</td>\n",
       "      <td>0.895675</td>\n",
       "      <td>0.895195</td>\n",
       "      <td>0.894781</td>\n",
       "      <td>0.001745</td>\n",
       "    </tr>\n",
       "    <tr>\n",
       "      <th>27</th>\n",
       "      <td>6.447544</td>\n",
       "      <td>1.535853</td>\n",
       "      <td>0.078449</td>\n",
       "      <td>0.008591</td>\n",
       "      <td>5</td>\n",
       "      <td>l2</td>\n",
       "      <td>80</td>\n",
       "      <td>{'logistic__C': 5, 'logistic__penalty': 'l2', ...</td>\n",
       "      <td>0.893117</td>\n",
       "      <td>0.897463</td>\n",
       "      <td>...</td>\n",
       "      <td>0.888172</td>\n",
       "      <td>0.006646</td>\n",
       "      <td>7</td>\n",
       "      <td>0.898192</td>\n",
       "      <td>0.895829</td>\n",
       "      <td>0.901264</td>\n",
       "      <td>0.898249</td>\n",
       "      <td>0.899452</td>\n",
       "      <td>0.898597</td>\n",
       "      <td>0.001777</td>\n",
       "    </tr>\n",
       "    <tr>\n",
       "      <th>28</th>\n",
       "      <td>5.501732</td>\n",
       "      <td>1.516059</td>\n",
       "      <td>0.080401</td>\n",
       "      <td>0.015312</td>\n",
       "      <td>10</td>\n",
       "      <td>l1</td>\n",
       "      <td>60</td>\n",
       "      <td>{'logistic__C': 10, 'logistic__penalty': 'l1',...</td>\n",
       "      <td>0.890550</td>\n",
       "      <td>0.894749</td>\n",
       "      <td>...</td>\n",
       "      <td>0.886602</td>\n",
       "      <td>0.006107</td>\n",
       "      <td>25</td>\n",
       "      <td>0.894093</td>\n",
       "      <td>0.891835</td>\n",
       "      <td>0.896620</td>\n",
       "      <td>0.896239</td>\n",
       "      <td>0.895286</td>\n",
       "      <td>0.894815</td>\n",
       "      <td>0.001727</td>\n",
       "    </tr>\n",
       "    <tr>\n",
       "      <th>29</th>\n",
       "      <td>12.349098</td>\n",
       "      <td>3.509246</td>\n",
       "      <td>0.110801</td>\n",
       "      <td>0.028037</td>\n",
       "      <td>10</td>\n",
       "      <td>l1</td>\n",
       "      <td>80</td>\n",
       "      <td>{'logistic__C': 10, 'logistic__penalty': 'l1',...</td>\n",
       "      <td>0.892946</td>\n",
       "      <td>0.897291</td>\n",
       "      <td>...</td>\n",
       "      <td>0.888054</td>\n",
       "      <td>0.006603</td>\n",
       "      <td>12</td>\n",
       "      <td>0.898155</td>\n",
       "      <td>0.895783</td>\n",
       "      <td>0.901244</td>\n",
       "      <td>0.898324</td>\n",
       "      <td>0.899872</td>\n",
       "      <td>0.898676</td>\n",
       "      <td>0.001832</td>\n",
       "    </tr>\n",
       "    <tr>\n",
       "      <th>30</th>\n",
       "      <td>4.906077</td>\n",
       "      <td>1.223741</td>\n",
       "      <td>0.076422</td>\n",
       "      <td>0.003168</td>\n",
       "      <td>10</td>\n",
       "      <td>l2</td>\n",
       "      <td>60</td>\n",
       "      <td>{'logistic__C': 10, 'logistic__penalty': 'l2',...</td>\n",
       "      <td>0.890834</td>\n",
       "      <td>0.894451</td>\n",
       "      <td>...</td>\n",
       "      <td>0.886647</td>\n",
       "      <td>0.005974</td>\n",
       "      <td>24</td>\n",
       "      <td>0.894451</td>\n",
       "      <td>0.891856</td>\n",
       "      <td>0.897321</td>\n",
       "      <td>0.896294</td>\n",
       "      <td>0.895357</td>\n",
       "      <td>0.895056</td>\n",
       "      <td>0.001863</td>\n",
       "    </tr>\n",
       "    <tr>\n",
       "      <th>31</th>\n",
       "      <td>5.477623</td>\n",
       "      <td>1.276703</td>\n",
       "      <td>0.075616</td>\n",
       "      <td>0.007405</td>\n",
       "      <td>10</td>\n",
       "      <td>l2</td>\n",
       "      <td>80</td>\n",
       "      <td>{'logistic__C': 10, 'logistic__penalty': 'l2',...</td>\n",
       "      <td>0.893133</td>\n",
       "      <td>0.897299</td>\n",
       "      <td>...</td>\n",
       "      <td>0.888267</td>\n",
       "      <td>0.006574</td>\n",
       "      <td>4</td>\n",
       "      <td>0.898137</td>\n",
       "      <td>0.895894</td>\n",
       "      <td>0.901324</td>\n",
       "      <td>0.898380</td>\n",
       "      <td>0.899653</td>\n",
       "      <td>0.898678</td>\n",
       "      <td>0.001794</td>\n",
       "    </tr>\n",
       "  </tbody>\n",
       "</table>\n",
       "<p>32 rows × 23 columns</p>\n",
       "</div>"
      ],
      "text/plain": [
       "    mean_fit_time  std_fit_time  mean_score_time  std_score_time param_logistic__C param_logistic__penalty param_pca__n_components                                             params  split0_test_score  split1_test_score  ...  mean_test_score  std_test_score  rank_test_score  split0_train_score  split1_train_score  split2_train_score  split3_train_score  split4_train_score  mean_train_score  std_train_score\n",
       "0        2.406370      0.970808         0.062797        0.007136               0.1                      l1                      60  {'logistic__C': 0.1, 'logistic__penalty': 'l1'...           0.888725           0.893742  ...         0.885645        0.007365               32            0.891091            0.889552            0.894147            0.892683            0.891198          0.891734         0.001561\n",
       "1        4.702679      0.419138         0.090036        0.022402               0.1                      l1                      80  {'logistic__C': 0.1, 'logistic__penalty': 'l1'...           0.891584           0.896236  ...         0.888020        0.006812               13            0.893969            0.892153            0.898381            0.895622            0.894212          0.894867         0.002075\n",
       "2        4.153200      0.233151         0.120815        0.035325               0.1                      l2                      60  {'logistic__C': 0.1, 'logistic__penalty': 'l2'...           0.890308           0.894449  ...         0.886065        0.006610               31            0.893339            0.891143            0.896296            0.894702            0.894111          0.893918         0.001694\n",
       "3        5.445918      0.799904         0.083393        0.007867               0.1                      l2                      80  {'logistic__C': 0.1, 'logistic__penalty': 'l2'...           0.892728           0.896564  ...         0.887866        0.006419               15            0.897083            0.895063            0.900580            0.897453            0.897984          0.897633         0.001775\n",
       "4        3.619229      0.560850         0.088228        0.014604               0.5                      l1                      60  {'logistic__C': 0.5, 'logistic__penalty': 'l1'...           0.890551           0.894490  ...         0.886339        0.006333               29            0.893561            0.891417            0.896648            0.895446            0.894429          0.894300         0.001772\n",
       "5        4.552198      0.854418         0.094803        0.014973               0.5                      l1                      80  {'logistic__C': 0.5, 'logistic__penalty': 'l1'...           0.893038           0.896949  ...         0.888299        0.006581                1            0.897267            0.895162            0.900883            0.897990            0.898151          0.897891         0.001837\n",
       "6        4.676291      0.482665         0.083401        0.022472               0.5                      l2                      60  {'logistic__C': 0.5, 'logistic__penalty': 'l2'...           0.891035           0.894626  ...         0.886592        0.006136               26            0.894130            0.891759            0.897158            0.895281            0.894677          0.894601         0.001750\n",
       "7        4.847880      0.178653         0.111002        0.008603               0.5                      l2                      80  {'logistic__C': 0.5, 'logistic__penalty': 'l2'...           0.893349           0.897178  ...         0.888163        0.006643                8            0.897800            0.895673            0.901095            0.898136            0.899043          0.898349         0.001762\n",
       "8        4.581418      1.150286         0.078124        0.007394                 1                      l1                      60  {'logistic__C': 1, 'logistic__penalty': 'l1', ...           0.890731           0.895080  ...         0.886761        0.006246               20            0.893938            0.891661            0.897400            0.895708            0.895072          0.894756         0.001910\n",
       "9        5.018514      1.567478         0.084205        0.008911                 1                      l1                      80  {'logistic__C': 1, 'logistic__penalty': 'l1', ...           0.893121           0.897369  ...         0.888220        0.006520                6            0.897677            0.895545            0.901080            0.898123            0.900212          0.898527         0.001957\n",
       "10       4.362503      0.678656         0.092405        0.021629                 1                      l2                      60  {'logistic__C': 1, 'logistic__penalty': 'l2', ...           0.890927           0.895022  ...         0.886732        0.006198               22            0.894285            0.892239            0.896965            0.896228            0.895010          0.894945         0.001642\n",
       "11       5.598420      1.119223         0.085971        0.006050                 1                      l2                      80  {'logistic__C': 1, 'logistic__penalty': 'l2', ...           0.893469           0.897022  ...         0.888139        0.006635                9            0.897804            0.895753            0.901194            0.898276            0.899389          0.898483         0.001796\n",
       "12       4.718609      0.306646         0.090951        0.015992                 2                      l1                      60  {'logistic__C': 2, 'logistic__penalty': 'l1', ...           0.891050           0.894417  ...         0.886426        0.006278               28            0.894222            0.891954            0.897098            0.895819            0.895189          0.894856         0.001726\n",
       "13       6.063127      1.676424         0.105015        0.020986                 2                      l1                      80  {'logistic__C': 2, 'logistic__penalty': 'l1', ...           0.893015           0.897275  ...         0.888283        0.006522                2            0.897891            0.895612            0.901264            0.898234            0.899259          0.898452         0.001843\n",
       "14       4.354394      0.828919         0.084846        0.007533                 2                      l2                      60  {'logistic__C': 2, 'logistic__penalty': 'l2', ...           0.891114           0.894406  ...         0.886446        0.006211               27            0.894365            0.892043            0.897005            0.895792            0.894978          0.894836         0.001653\n",
       "15       6.041624      1.153798         0.093782        0.019451                 2                      l2                      80  {'logistic__C': 2, 'logistic__penalty': 'l2', ...           0.893156           0.896883  ...         0.887862        0.006546               16            0.898029            0.895621            0.901239            0.898150            0.899572          0.898522         0.001859\n",
       "16       5.075398      1.634072         0.085404        0.013124                 3                      l1                      60  {'logistic__C': 3, 'logistic__penalty': 'l1', ...           0.891750           0.894941  ...         0.886864        0.006587               18            0.894365            0.892040            0.896970            0.895720            0.895792          0.894977         0.001684\n",
       "17       7.264250      3.267939         0.094997        0.018506                 3                      l1                      80  {'logistic__C': 3, 'logistic__penalty': 'l1', ...           0.893094           0.897177  ...         0.888107        0.006564               10            0.897961            0.895817            0.901169            0.898236            0.899860          0.898609         0.001815\n",
       "18       5.058064      0.915107         0.084218        0.010205                 3                      l2                      60  {'logistic__C': 3, 'logistic__penalty': 'l2', ...           0.891345           0.894359  ...         0.886825        0.006201               19            0.894533            0.891733            0.897422            0.895956            0.894723          0.894873         0.001880\n",
       "19       6.300768      0.558427         0.083968        0.012799                 3                      l2                      80  {'logistic__C': 3, 'logistic__penalty': 'l2', ...           0.892975           0.897344  ...         0.888088        0.006546               11            0.898136            0.895828            0.901216            0.898310            0.899735          0.898645         0.001795\n",
       "20       5.269855      0.750094         0.079221        0.010019                 4                      l1                      60  {'logistic__C': 4, 'logistic__penalty': 'l1', ...           0.891620           0.895267  ...         0.886961        0.006347               17            0.894108            0.892018            0.896764            0.895986            0.895228          0.894821         0.001653\n",
       "21       7.724676      2.646459         0.092042        0.006068                 4                      l1                      80  {'logistic__C': 4, 'logistic__penalty': 'l1', ...           0.892995           0.896815  ...         0.888266        0.006382                5            0.897999            0.895745            0.901275            0.898053            0.899648          0.898544         0.001847\n",
       "22       4.666137      0.919832         0.091828        0.015485                 4                      l2                      60  {'logistic__C': 4, 'logistic__penalty': 'l2', ...           0.890903           0.893959  ...         0.886293        0.006134               30            0.894342            0.891948            0.896972            0.895822            0.895249          0.894867         0.001691\n",
       "23       6.217498      1.123767         0.093998        0.015950                 4                      l2                      80  {'logistic__C': 4, 'logistic__penalty': 'l2', ...           0.893070           0.897650  ...         0.888270        0.006720                3            0.898084            0.895874            0.901333            0.898001            0.900136          0.898685         0.001889\n",
       "24       5.358726      1.172820         0.077013        0.003337                 5                      l1                      60  {'logistic__C': 5, 'logistic__penalty': 'l1', ...           0.891207           0.894580  ...         0.886750        0.006046               21            0.894440            0.891834            0.897224            0.896121            0.895158          0.894955         0.001820\n",
       "25      11.455602      4.313452         0.104642        0.025504                 5                      l1                      80  {'logistic__C': 5, 'logistic__penalty': 'l1', ...           0.892766           0.897558  ...         0.888016        0.006687               14            0.898108            0.895696            0.901018            0.898265            0.899480          0.898513         0.001753\n",
       "26       4.746328      0.523096         0.083067        0.014870                 5                      l2                      60  {'logistic__C': 5, 'logistic__penalty': 'l2', ...           0.890986           0.895189  ...         0.886715        0.006299               23            0.894019            0.891908            0.897109            0.895675            0.895195          0.894781         0.001745\n",
       "27       6.447544      1.535853         0.078449        0.008591                 5                      l2                      80  {'logistic__C': 5, 'logistic__penalty': 'l2', ...           0.893117           0.897463  ...         0.888172        0.006646                7            0.898192            0.895829            0.901264            0.898249            0.899452          0.898597         0.001777\n",
       "28       5.501732      1.516059         0.080401        0.015312                10                      l1                      60  {'logistic__C': 10, 'logistic__penalty': 'l1',...           0.890550           0.894749  ...         0.886602        0.006107               25            0.894093            0.891835            0.896620            0.896239            0.895286          0.894815         0.001727\n",
       "29      12.349098      3.509246         0.110801        0.028037                10                      l1                      80  {'logistic__C': 10, 'logistic__penalty': 'l1',...           0.892946           0.897291  ...         0.888054        0.006603               12            0.898155            0.895783            0.901244            0.898324            0.899872          0.898676         0.001832\n",
       "30       4.906077      1.223741         0.076422        0.003168                10                      l2                      60  {'logistic__C': 10, 'logistic__penalty': 'l2',...           0.890834           0.894451  ...         0.886647        0.005974               24            0.894451            0.891856            0.897321            0.896294            0.895357          0.895056         0.001863\n",
       "31       5.477623      1.276703         0.075616        0.007405                10                      l2                      80  {'logistic__C': 10, 'logistic__penalty': 'l2',...           0.893133           0.897299  ...         0.888267        0.006574                4            0.898137            0.895894            0.901324            0.898380            0.899653          0.898678         0.001794\n",
       "\n",
       "[32 rows x 23 columns]"
      ]
     },
     "execution_count": 80,
     "metadata": {},
     "output_type": "execute_result"
    }
   ],
   "source": [
    "# cross validation results\n",
    "pd.DataFrame(model.cv_results_)"
   ]
  },
  {
   "cell_type": "code",
   "execution_count": 81,
   "metadata": {},
   "outputs": [
    {
     "name": "stdout",
     "output_type": "stream",
     "text": [
      "Best AUC:  0.8882990732436775\n",
      "Best hyperparameters:  {'logistic__C': 0.5, 'logistic__penalty': 'l1', 'pca__n_components': 80}\n"
     ]
    }
   ],
   "source": [
    "\n",
    "# print best hyperparameters\n",
    "print(\"Best AUC: \", model.best_score_)\n",
    "print(\"Best hyperparameters: \", model.best_params_)"
   ]
  },
  {
   "cell_type": "code",
   "execution_count": 82,
   "metadata": {},
   "outputs": [
    {
     "name": "stdout",
     "output_type": "stream",
     "text": [
      "[[5820 1071]\n",
      " [ 116  494]]\n",
      "Sensitivity: \t0.81\n",
      "Specificity: \t0.84\n",
      "AUC:    \t 0.9\n"
     ]
    }
   ],
   "source": [
    "# predict churn on test data\n",
    "y_pred = model.predict(X_test)\n",
    "\n",
    "# create onfusion matrix\n",
    "cm = confusion_matrix(y_test, y_pred)\n",
    "print(cm)\n",
    "\n",
    "# check sensitivity and specificity\n",
    "sensitivity, specificity, _ = sensitivity_specificity_support(y_test, y_pred, average='binary')\n",
    "print(\"Sensitivity: \\t\", round(sensitivity, 2), \"\\n\", \"Specificity: \\t\", round(specificity, 2), sep='')\n",
    "\n",
    "# check area under curve\n",
    "y_pred_prob = model.predict_proba(X_test)[:, 1]\n",
    "print(\"AUC:    \\t\", round(roc_auc_score(y_test, y_pred_prob),2))"
   ]
  },
  {
   "cell_type": "markdown",
   "metadata": {},
   "source": [
    "## Step 11: Random Forest"
   ]
  },
  {
   "cell_type": "code",
   "execution_count": 83,
   "metadata": {},
   "outputs": [
    {
     "name": "stderr",
     "output_type": "stream",
     "text": [
      "C:\\Users\\psivasubrama\\AppData\\Local\\Continuum\\anaconda3\\lib\\site-packages\\sklearn\\ensemble\\weight_boosting.py:29: DeprecationWarning: numpy.core.umath_tests is an internal NumPy module and should not be imported. It will be removed in a future NumPy release.\n",
      "  from numpy.core.umath_tests import inner1d\n"
     ]
    }
   ],
   "source": [
    "from sklearn.ensemble import RandomForestClassifier\n",
    "from sklearn.model_selection import StratifiedKFold\n",
    "# random forest - the class weight is used to handle class imbalance - it adjusts the cost function\n",
    "forest = RandomForestClassifier(class_weight={0:0.1, 1: 0.9}, n_jobs = -1)\n",
    "\n",
    "# hyperparameter space\n",
    "params = {\"criterion\": ['gini', 'entropy'], \"max_features\": ['auto', 0.4]}\n",
    "\n",
    "# create 5 folds\n",
    "folds = StratifiedKFold(n_splits = 5, shuffle = True, random_state = 4)\n",
    "\n",
    "# create gridsearch object\n",
    "model = GridSearchCV(estimator=forest, cv=folds, param_grid=params, scoring='roc_auc', n_jobs=-1, verbose=1)"
   ]
  },
  {
   "cell_type": "code",
   "execution_count": 84,
   "metadata": {},
   "outputs": [
    {
     "name": "stdout",
     "output_type": "stream",
     "text": [
      "Fitting 5 folds for each of 4 candidates, totalling 20 fits\n"
     ]
    },
    {
     "name": "stderr",
     "output_type": "stream",
     "text": [
      "[Parallel(n_jobs=-1)]: Done  20 out of  20 | elapsed:  1.1min finished\n"
     ]
    },
    {
     "data": {
      "text/plain": [
       "GridSearchCV(cv=StratifiedKFold(n_splits=5, random_state=4, shuffle=True),\n",
       "       error_score='raise',\n",
       "       estimator=RandomForestClassifier(bootstrap=True, class_weight={0: 0.1, 1: 0.9},\n",
       "            criterion='gini', max_depth=None, max_features='auto',\n",
       "            max_leaf_nodes=None, min_impurity_decrease=0.0,\n",
       "            min_impurity_split=None, min_samples_leaf=1,\n",
       "            min_samples_split=2, min_weight_fraction_leaf=0.0,\n",
       "            n_estimators=10, n_jobs=-1, oob_score=False, random_state=None,\n",
       "            verbose=0, warm_start=False),\n",
       "       fit_params=None, iid=True, n_jobs=-1,\n",
       "       param_grid={'criterion': ['gini', 'entropy'], 'max_features': ['auto', 0.4]},\n",
       "       pre_dispatch='2*n_jobs', refit=True, return_train_score='warn',\n",
       "       scoring='roc_auc', verbose=1)"
      ]
     },
     "execution_count": 84,
     "metadata": {},
     "output_type": "execute_result"
    }
   ],
   "source": [
    "# fit model\n",
    "model.fit(X_train, y_train)"
   ]
  },
  {
   "cell_type": "code",
   "execution_count": 85,
   "metadata": {},
   "outputs": [
    {
     "name": "stdout",
     "output_type": "stream",
     "text": [
      "[[6793   98]\n",
      " [ 337  273]]\n",
      "Sensitivity: \t0.45\n",
      "Specificity: \t0.99\n",
      "AUC:    \t 0.89\n"
     ]
    }
   ],
   "source": [
    "\n",
    "# predict churn on test data\n",
    "y_pred = model.predict(X_test)\n",
    "\n",
    "# create onfusion matrix\n",
    "cm = confusion_matrix(y_test, y_pred)\n",
    "print(cm)\n",
    "\n",
    "# check sensitivity and specificity\n",
    "sensitivity, specificity, _ = sensitivity_specificity_support(y_test, y_pred, average='binary')\n",
    "print(\"Sensitivity: \\t\", round(sensitivity, 2), \"\\n\", \"Specificity: \\t\", round(specificity, 2), sep='')\n",
    "\n",
    "# check area under curve\n",
    "y_pred_prob = model.predict_proba(X_test)[:, 1]\n",
    "print(\"AUC:    \\t\", round(roc_auc_score(y_test, y_pred_prob),2))"
   ]
  },
  {
   "cell_type": "markdown",
   "metadata": {},
   "source": [
    "### Selecting best features"
   ]
  },
  {
   "cell_type": "code",
   "execution_count": 86,
   "metadata": {},
   "outputs": [
    {
     "name": "stdout",
     "output_type": "stream",
     "text": [
      "13\n"
     ]
    }
   ],
   "source": [
    "\n",
    "# run a random forest model on train data\n",
    "max_features = int(round(np.sqrt(X_train.shape[1])))    # number of variables to consider to split each node\n",
    "print(max_features)\n",
    "\n",
    "rf_model = RandomForestClassifier(n_estimators=100, max_features=max_features, class_weight={0:0.1, 1: 0.9}, oob_score=True, random_state=4, verbose=1)"
   ]
  },
  {
   "cell_type": "code",
   "execution_count": 87,
   "metadata": {},
   "outputs": [
    {
     "name": "stderr",
     "output_type": "stream",
     "text": [
      "[Parallel(n_jobs=1)]: Done 100 out of 100 | elapsed:   30.0s finished\n"
     ]
    },
    {
     "data": {
      "text/plain": [
       "RandomForestClassifier(bootstrap=True, class_weight={0: 0.1, 1: 0.9},\n",
       "            criterion='gini', max_depth=None, max_features=13,\n",
       "            max_leaf_nodes=None, min_impurity_decrease=0.0,\n",
       "            min_impurity_split=None, min_samples_leaf=1,\n",
       "            min_samples_split=2, min_weight_fraction_leaf=0.0,\n",
       "            n_estimators=100, n_jobs=1, oob_score=True, random_state=4,\n",
       "            verbose=1, warm_start=False)"
      ]
     },
     "execution_count": 87,
     "metadata": {},
     "output_type": "execute_result"
    }
   ],
   "source": [
    "# fit model\n",
    "rf_model.fit(X_train, y_train)"
   ]
  },
  {
   "cell_type": "code",
   "execution_count": 88,
   "metadata": {},
   "outputs": [
    {
     "name": "stderr",
     "output_type": "stream",
     "text": [
      "[Parallel(n_jobs=1)]: Done 100 out of 100 | elapsed:    0.1s finished\n"
     ]
    },
    {
     "name": "stdout",
     "output_type": "stream",
     "text": [
      "[[6789  102]\n",
      " [ 314  296]]\n",
      "Sensitivity: \t0.49\n",
      "Specificity: \t0.99\n",
      "ROC:    \t 0.93\n"
     ]
    },
    {
     "name": "stderr",
     "output_type": "stream",
     "text": [
      "[Parallel(n_jobs=1)]: Done 100 out of 100 | elapsed:    0.2s finished\n"
     ]
    }
   ],
   "source": [
    "# predict churn on test data\n",
    "y_pred = rf_model.predict(X_test)\n",
    "\n",
    "# create onfusion matrix\n",
    "cm = confusion_matrix(y_test, y_pred)\n",
    "print(cm)\n",
    "\n",
    "# check sensitivity and specificity\n",
    "sensitivity, specificity, _ = sensitivity_specificity_support(y_test, y_pred, average='binary')\n",
    "print(\"Sensitivity: \\t\", round(sensitivity, 2), \"\\n\", \"Specificity: \\t\", round(specificity, 2), sep='')\n",
    "\n",
    "# check area under curve\n",
    "y_pred_prob = rf_model.predict_proba(X_test)[:, 1]\n",
    "print(\"ROC:    \\t\", round(roc_auc_score(y_test, y_pred_prob),2))"
   ]
  },
  {
   "cell_type": "markdown",
   "metadata": {},
   "source": [
    "### Feature Importance"
   ]
  },
  {
   "cell_type": "code",
   "execution_count": 89,
   "metadata": {},
   "outputs": [
    {
     "name": "stdout",
     "output_type": "stream",
     "text": [
      "Sum of importance= 100.0\n"
     ]
    },
    {
     "data": {
      "text/html": [
       "<div>\n",
       "<style scoped>\n",
       "    .dataframe tbody tr th:only-of-type {\n",
       "        vertical-align: middle;\n",
       "    }\n",
       "\n",
       "    .dataframe tbody tr th {\n",
       "        vertical-align: top;\n",
       "    }\n",
       "\n",
       "    .dataframe thead th {\n",
       "        text-align: right;\n",
       "    }\n",
       "</style>\n",
       "<table border=\"1\" class=\"dataframe\">\n",
       "  <thead>\n",
       "    <tr style=\"text-align: right;\">\n",
       "      <th></th>\n",
       "      <th>variables</th>\n",
       "      <th>importance_percentage</th>\n",
       "    </tr>\n",
       "  </thead>\n",
       "  <tbody>\n",
       "    <tr>\n",
       "      <th>0</th>\n",
       "      <td>total_ic_mou_8</td>\n",
       "      <td>5.406585</td>\n",
       "    </tr>\n",
       "    <tr>\n",
       "      <th>1</th>\n",
       "      <td>loc_ic_mou_8</td>\n",
       "      <td>5.255120</td>\n",
       "    </tr>\n",
       "    <tr>\n",
       "      <th>2</th>\n",
       "      <td>loc_ic_t2m_mou_8</td>\n",
       "      <td>4.924727</td>\n",
       "    </tr>\n",
       "    <tr>\n",
       "      <th>3</th>\n",
       "      <td>total_og_mou_8</td>\n",
       "      <td>2.744423</td>\n",
       "    </tr>\n",
       "    <tr>\n",
       "      <th>4</th>\n",
       "      <td>loc_og_t2m_mou_8</td>\n",
       "      <td>2.682279</td>\n",
       "    </tr>\n",
       "    <tr>\n",
       "      <th>5</th>\n",
       "      <td>loc_og_mou_8</td>\n",
       "      <td>2.679480</td>\n",
       "    </tr>\n",
       "    <tr>\n",
       "      <th>6</th>\n",
       "      <td>last_day_rch_amt_8</td>\n",
       "      <td>2.493903</td>\n",
       "    </tr>\n",
       "    <tr>\n",
       "      <th>7</th>\n",
       "      <td>total_rech_amt_diff</td>\n",
       "      <td>2.476333</td>\n",
       "    </tr>\n",
       "    <tr>\n",
       "      <th>8</th>\n",
       "      <td>arpu_8</td>\n",
       "      <td>2.308695</td>\n",
       "    </tr>\n",
       "    <tr>\n",
       "      <th>9</th>\n",
       "      <td>loc_og_t2t_mou_8</td>\n",
       "      <td>1.961510</td>\n",
       "    </tr>\n",
       "    <tr>\n",
       "      <th>10</th>\n",
       "      <td>loc_ic_t2t_mou_8</td>\n",
       "      <td>1.929857</td>\n",
       "    </tr>\n",
       "    <tr>\n",
       "      <th>11</th>\n",
       "      <td>arpu_diff</td>\n",
       "      <td>1.920266</td>\n",
       "    </tr>\n",
       "    <tr>\n",
       "      <th>12</th>\n",
       "      <td>roam_og_mou_8</td>\n",
       "      <td>1.914204</td>\n",
       "    </tr>\n",
       "    <tr>\n",
       "      <th>13</th>\n",
       "      <td>max_rech_amt_8</td>\n",
       "      <td>1.697682</td>\n",
       "    </tr>\n",
       "    <tr>\n",
       "      <th>14</th>\n",
       "      <td>total_og_mou_diff</td>\n",
       "      <td>1.627971</td>\n",
       "    </tr>\n",
       "    <tr>\n",
       "      <th>15</th>\n",
       "      <td>total_ic_mou_diff</td>\n",
       "      <td>1.558578</td>\n",
       "    </tr>\n",
       "    <tr>\n",
       "      <th>16</th>\n",
       "      <td>roam_og_mou_diff</td>\n",
       "      <td>1.527197</td>\n",
       "    </tr>\n",
       "    <tr>\n",
       "      <th>17</th>\n",
       "      <td>std_ic_mou_8</td>\n",
       "      <td>1.429267</td>\n",
       "    </tr>\n",
       "    <tr>\n",
       "      <th>18</th>\n",
       "      <td>av_rech_amt_data_8</td>\n",
       "      <td>1.361284</td>\n",
       "    </tr>\n",
       "    <tr>\n",
       "      <th>19</th>\n",
       "      <td>total_rech_num_diff</td>\n",
       "      <td>1.261600</td>\n",
       "    </tr>\n",
       "    <tr>\n",
       "      <th>20</th>\n",
       "      <td>total_rech_amt_8</td>\n",
       "      <td>1.202790</td>\n",
       "    </tr>\n",
       "    <tr>\n",
       "      <th>21</th>\n",
       "      <td>loc_ic_mou_diff</td>\n",
       "      <td>1.202049</td>\n",
       "    </tr>\n",
       "    <tr>\n",
       "      <th>22</th>\n",
       "      <td>roam_ic_mou_8</td>\n",
       "      <td>1.198836</td>\n",
       "    </tr>\n",
       "    <tr>\n",
       "      <th>23</th>\n",
       "      <td>max_rech_data_8</td>\n",
       "      <td>1.143164</td>\n",
       "    </tr>\n",
       "    <tr>\n",
       "      <th>24</th>\n",
       "      <td>max_rech_amt_diff</td>\n",
       "      <td>1.036205</td>\n",
       "    </tr>\n",
       "    <tr>\n",
       "      <th>25</th>\n",
       "      <td>offnet_mou_8</td>\n",
       "      <td>1.035559</td>\n",
       "    </tr>\n",
       "    <tr>\n",
       "      <th>26</th>\n",
       "      <td>std_og_mou_diff</td>\n",
       "      <td>1.034552</td>\n",
       "    </tr>\n",
       "    <tr>\n",
       "      <th>27</th>\n",
       "      <td>offnet_mou_diff</td>\n",
       "      <td>1.001232</td>\n",
       "    </tr>\n",
       "    <tr>\n",
       "      <th>28</th>\n",
       "      <td>loc_ic_t2f_mou_8</td>\n",
       "      <td>0.864566</td>\n",
       "    </tr>\n",
       "    <tr>\n",
       "      <th>29</th>\n",
       "      <td>std_ic_t2m_mou_8</td>\n",
       "      <td>0.786643</td>\n",
       "    </tr>\n",
       "    <tr>\n",
       "      <th>...</th>\n",
       "      <td>...</td>\n",
       "      <td>...</td>\n",
       "    </tr>\n",
       "    <tr>\n",
       "      <th>142</th>\n",
       "      <td>std_ic_t2f_mou_6</td>\n",
       "      <td>0.103566</td>\n",
       "    </tr>\n",
       "    <tr>\n",
       "      <th>143</th>\n",
       "      <td>std_og_t2f_mou_6</td>\n",
       "      <td>0.102501</td>\n",
       "    </tr>\n",
       "    <tr>\n",
       "      <th>144</th>\n",
       "      <td>isd_og_mou_6</td>\n",
       "      <td>0.094115</td>\n",
       "    </tr>\n",
       "    <tr>\n",
       "      <th>145</th>\n",
       "      <td>sachet_3g_6</td>\n",
       "      <td>0.093082</td>\n",
       "    </tr>\n",
       "    <tr>\n",
       "      <th>146</th>\n",
       "      <td>spl_ic_mou_7</td>\n",
       "      <td>0.087130</td>\n",
       "    </tr>\n",
       "    <tr>\n",
       "      <th>147</th>\n",
       "      <td>monthly_3g_7</td>\n",
       "      <td>0.072300</td>\n",
       "    </tr>\n",
       "    <tr>\n",
       "      <th>148</th>\n",
       "      <td>sachet_3g_7</td>\n",
       "      <td>0.072293</td>\n",
       "    </tr>\n",
       "    <tr>\n",
       "      <th>149</th>\n",
       "      <td>sachet_3g_8</td>\n",
       "      <td>0.066865</td>\n",
       "    </tr>\n",
       "    <tr>\n",
       "      <th>150</th>\n",
       "      <td>night_pck_user_7</td>\n",
       "      <td>0.064930</td>\n",
       "    </tr>\n",
       "    <tr>\n",
       "      <th>151</th>\n",
       "      <td>monthly_3g_6</td>\n",
       "      <td>0.062318</td>\n",
       "    </tr>\n",
       "    <tr>\n",
       "      <th>152</th>\n",
       "      <td>isd_og_mou_8</td>\n",
       "      <td>0.061878</td>\n",
       "    </tr>\n",
       "    <tr>\n",
       "      <th>153</th>\n",
       "      <td>std_og_t2f_mou_8</td>\n",
       "      <td>0.055183</td>\n",
       "    </tr>\n",
       "    <tr>\n",
       "      <th>154</th>\n",
       "      <td>monthly_2g_7</td>\n",
       "      <td>0.046921</td>\n",
       "    </tr>\n",
       "    <tr>\n",
       "      <th>155</th>\n",
       "      <td>monthly_2g_6</td>\n",
       "      <td>0.043632</td>\n",
       "    </tr>\n",
       "    <tr>\n",
       "      <th>156</th>\n",
       "      <td>fb_user_6</td>\n",
       "      <td>0.043274</td>\n",
       "    </tr>\n",
       "    <tr>\n",
       "      <th>157</th>\n",
       "      <td>night_pck_user_6</td>\n",
       "      <td>0.040181</td>\n",
       "    </tr>\n",
       "    <tr>\n",
       "      <th>158</th>\n",
       "      <td>fb_user_7</td>\n",
       "      <td>0.038617</td>\n",
       "    </tr>\n",
       "    <tr>\n",
       "      <th>159</th>\n",
       "      <td>monthly_2g_8</td>\n",
       "      <td>0.036327</td>\n",
       "    </tr>\n",
       "    <tr>\n",
       "      <th>160</th>\n",
       "      <td>monthly_3g_8</td>\n",
       "      <td>0.032328</td>\n",
       "    </tr>\n",
       "    <tr>\n",
       "      <th>161</th>\n",
       "      <td>og_others_7</td>\n",
       "      <td>0.012295</td>\n",
       "    </tr>\n",
       "    <tr>\n",
       "      <th>162</th>\n",
       "      <td>og_others_8</td>\n",
       "      <td>0.009256</td>\n",
       "    </tr>\n",
       "    <tr>\n",
       "      <th>163</th>\n",
       "      <td>loc_ic_t2o_mou</td>\n",
       "      <td>0.000000</td>\n",
       "    </tr>\n",
       "    <tr>\n",
       "      <th>164</th>\n",
       "      <td>std_og_t2o_mou</td>\n",
       "      <td>0.000000</td>\n",
       "    </tr>\n",
       "    <tr>\n",
       "      <th>165</th>\n",
       "      <td>std_og_t2c_mou_6</td>\n",
       "      <td>0.000000</td>\n",
       "    </tr>\n",
       "    <tr>\n",
       "      <th>166</th>\n",
       "      <td>std_og_t2c_mou_7</td>\n",
       "      <td>0.000000</td>\n",
       "    </tr>\n",
       "    <tr>\n",
       "      <th>167</th>\n",
       "      <td>std_og_t2c_mou_8</td>\n",
       "      <td>0.000000</td>\n",
       "    </tr>\n",
       "    <tr>\n",
       "      <th>168</th>\n",
       "      <td>std_ic_t2o_mou_6</td>\n",
       "      <td>0.000000</td>\n",
       "    </tr>\n",
       "    <tr>\n",
       "      <th>169</th>\n",
       "      <td>std_ic_t2o_mou_7</td>\n",
       "      <td>0.000000</td>\n",
       "    </tr>\n",
       "    <tr>\n",
       "      <th>170</th>\n",
       "      <td>std_ic_t2o_mou_8</td>\n",
       "      <td>0.000000</td>\n",
       "    </tr>\n",
       "    <tr>\n",
       "      <th>171</th>\n",
       "      <td>loc_og_t2o_mou</td>\n",
       "      <td>0.000000</td>\n",
       "    </tr>\n",
       "  </tbody>\n",
       "</table>\n",
       "<p>172 rows × 2 columns</p>\n",
       "</div>"
      ],
      "text/plain": [
       "               variables  importance_percentage\n",
       "0         total_ic_mou_8               5.406585\n",
       "1           loc_ic_mou_8               5.255120\n",
       "2       loc_ic_t2m_mou_8               4.924727\n",
       "3         total_og_mou_8               2.744423\n",
       "4       loc_og_t2m_mou_8               2.682279\n",
       "5           loc_og_mou_8               2.679480\n",
       "6     last_day_rch_amt_8               2.493903\n",
       "7    total_rech_amt_diff               2.476333\n",
       "8                 arpu_8               2.308695\n",
       "9       loc_og_t2t_mou_8               1.961510\n",
       "10      loc_ic_t2t_mou_8               1.929857\n",
       "11             arpu_diff               1.920266\n",
       "12         roam_og_mou_8               1.914204\n",
       "13        max_rech_amt_8               1.697682\n",
       "14     total_og_mou_diff               1.627971\n",
       "15     total_ic_mou_diff               1.558578\n",
       "16      roam_og_mou_diff               1.527197\n",
       "17          std_ic_mou_8               1.429267\n",
       "18    av_rech_amt_data_8               1.361284\n",
       "19   total_rech_num_diff               1.261600\n",
       "20      total_rech_amt_8               1.202790\n",
       "21       loc_ic_mou_diff               1.202049\n",
       "22         roam_ic_mou_8               1.198836\n",
       "23       max_rech_data_8               1.143164\n",
       "24     max_rech_amt_diff               1.036205\n",
       "25          offnet_mou_8               1.035559\n",
       "26       std_og_mou_diff               1.034552\n",
       "27       offnet_mou_diff               1.001232\n",
       "28      loc_ic_t2f_mou_8               0.864566\n",
       "29      std_ic_t2m_mou_8               0.786643\n",
       "..                   ...                    ...\n",
       "142     std_ic_t2f_mou_6               0.103566\n",
       "143     std_og_t2f_mou_6               0.102501\n",
       "144         isd_og_mou_6               0.094115\n",
       "145          sachet_3g_6               0.093082\n",
       "146         spl_ic_mou_7               0.087130\n",
       "147         monthly_3g_7               0.072300\n",
       "148          sachet_3g_7               0.072293\n",
       "149          sachet_3g_8               0.066865\n",
       "150     night_pck_user_7               0.064930\n",
       "151         monthly_3g_6               0.062318\n",
       "152         isd_og_mou_8               0.061878\n",
       "153     std_og_t2f_mou_8               0.055183\n",
       "154         monthly_2g_7               0.046921\n",
       "155         monthly_2g_6               0.043632\n",
       "156            fb_user_6               0.043274\n",
       "157     night_pck_user_6               0.040181\n",
       "158            fb_user_7               0.038617\n",
       "159         monthly_2g_8               0.036327\n",
       "160         monthly_3g_8               0.032328\n",
       "161          og_others_7               0.012295\n",
       "162          og_others_8               0.009256\n",
       "163       loc_ic_t2o_mou               0.000000\n",
       "164       std_og_t2o_mou               0.000000\n",
       "165     std_og_t2c_mou_6               0.000000\n",
       "166     std_og_t2c_mou_7               0.000000\n",
       "167     std_og_t2c_mou_8               0.000000\n",
       "168     std_ic_t2o_mou_6               0.000000\n",
       "169     std_ic_t2o_mou_7               0.000000\n",
       "170     std_ic_t2o_mou_8               0.000000\n",
       "171       loc_og_t2o_mou               0.000000\n",
       "\n",
       "[172 rows x 2 columns]"
      ]
     },
     "execution_count": 89,
     "metadata": {},
     "output_type": "execute_result"
    }
   ],
   "source": [
    "# predictors\n",
    "features = telecom_churn_filtered.drop('churn', axis=1).columns\n",
    "\n",
    "# feature_importance\n",
    "importance = rf_model.feature_importances_\n",
    "\n",
    "# create dataframe\n",
    "feature_importance = pd.DataFrame({'variables': features, 'importance_percentage': importance*100})\n",
    "feature_importance = feature_importance[['variables', 'importance_percentage']]\n",
    "\n",
    "# sort features\n",
    "feature_importance = feature_importance.sort_values('importance_percentage', ascending=False).reset_index(drop=True)\n",
    "print(\"Sum of importance=\", feature_importance.importance_percentage.sum())\n",
    "feature_importance"
   ]
  },
  {
   "cell_type": "markdown",
   "metadata": {},
   "source": [
    "### Extracting top 30 features"
   ]
  },
  {
   "cell_type": "code",
   "execution_count": 90,
   "metadata": {},
   "outputs": [],
   "source": [
    "\n",
    "# extract top 'n' features\n",
    "top_n = 30\n",
    "top_features = feature_importance.variables[0:top_n]"
   ]
  },
  {
   "cell_type": "code",
   "execution_count": 91,
   "metadata": {},
   "outputs": [
    {
     "data": {
      "text/plain": [
       "<matplotlib.axes._subplots.AxesSubplot at 0x19e0917ee48>"
      ]
     },
     "execution_count": 91,
     "metadata": {},
     "output_type": "execute_result"
    },
    {
     "data": {
      "image/png": "[encoded data removed]",
      "text/plain": [
       "<Figure size 720x720 with 2 Axes>"
      ]
     },
     "metadata": {
      "needs_background": "light"
     },
     "output_type": "display_data"
    }
   ],
   "source": [
    "# plot feature correlation\n",
    "import seaborn as sns\n",
    "plt.rcParams[\"figure.figsize\"] =(10,10)\n",
    "mycmap = sns.diverging_palette(220, 45, s=99, center=\"light\", as_cmap=True)\n",
    "sns.heatmap(data=X_train[top_features].corr(), center=0.0, cmap=mycmap)"
   ]
  },
  {
   "cell_type": "code",
   "execution_count": 92,
   "metadata": {},
   "outputs": [],
   "source": [
    "\n",
    "top_features = ['total_ic_mou_8', 'total_rech_amt_diff', 'total_og_mou_8', 'arpu_8', 'roam_ic_mou_8', 'roam_og_mou_8', \n",
    "                'std_ic_mou_8', 'av_rech_amt_data_8', 'std_og_mou_8']\n",
    "X_train = X_train[top_features]\n",
    "X_test = X_test[top_features]"
   ]
  },
  {
   "cell_type": "code",
   "execution_count": 93,
   "metadata": {},
   "outputs": [],
   "source": [
    "# logistic regression\n",
    "steps = [('scaler', StandardScaler()), \n",
    "         (\"logistic\", LogisticRegression(class_weight={0:0.1, 1:0.9}))\n",
    "        ]\n",
    "\n",
    "# compile pipeline\n",
    "logistic = Pipeline(steps)\n",
    "\n",
    "# hyperparameter space\n",
    "params = {'logistic__C': [0.1, 0.5, 1, 2, 3, 4, 5, 10], 'logistic__penalty': ['l1', 'l2']}\n",
    "\n",
    "# create 5 folds\n",
    "folds = StratifiedKFold(n_splits = 5, shuffle = True, random_state = 4)\n",
    "\n",
    "# create gridsearch object\n",
    "model = GridSearchCV(estimator=logistic, cv=folds, param_grid=params, scoring='roc_auc', n_jobs=-1, verbose=1)"
   ]
  },
  {
   "cell_type": "code",
   "execution_count": 94,
   "metadata": {},
   "outputs": [
    {
     "name": "stdout",
     "output_type": "stream",
     "text": [
      "Fitting 5 folds for each of 16 candidates, totalling 80 fits\n"
     ]
    },
    {
     "name": "stderr",
     "output_type": "stream",
     "text": [
      "[Parallel(n_jobs=-1)]: Done  42 tasks      | elapsed:   12.3s\n",
      "[Parallel(n_jobs=-1)]: Done  80 out of  80 | elapsed:   16.2s finished\n"
     ]
    },
    {
     "data": {
      "text/plain": [
       "GridSearchCV(cv=StratifiedKFold(n_splits=5, random_state=4, shuffle=True),\n",
       "       error_score='raise',\n",
       "       estimator=Pipeline(memory=None,\n",
       "     steps=[('scaler', StandardScaler(copy=True, with_mean=True, with_std=True)), ('logistic', LogisticRegression(C=1.0, class_weight={0: 0.1, 1: 0.9}, dual=False,\n",
       "          fit_intercept=True, intercept_scaling=1, max_iter=100,\n",
       "          multi_class='ovr', n_jobs=1, penalty='l2', random_state=None,\n",
       "          solver='liblinear', tol=0.0001, verbose=0, warm_start=False))]),\n",
       "       fit_params=None, iid=True, n_jobs=-1,\n",
       "       param_grid={'logistic__C': [0.1, 0.5, 1, 2, 3, 4, 5, 10], 'logistic__penalty': ['l1', 'l2']},\n",
       "       pre_dispatch='2*n_jobs', refit=True, return_train_score='warn',\n",
       "       scoring='roc_auc', verbose=1)"
      ]
     },
     "execution_count": 94,
     "metadata": {},
     "output_type": "execute_result"
    }
   ],
   "source": [
    "# fit model\n",
    "model.fit(X_train, y_train)"
   ]
  },
  {
   "cell_type": "code",
   "execution_count": 95,
   "metadata": {},
   "outputs": [
    {
     "name": "stdout",
     "output_type": "stream",
     "text": [
      "Best AUC:  0.8741916236092184\n",
      "Best hyperparameters:  {'logistic__C': 10, 'logistic__penalty': 'l2'}\n"
     ]
    }
   ],
   "source": [
    "\n",
    "# print best hyperparameters\n",
    "print(\"Best AUC: \", model.best_score_)\n",
    "print(\"Best hyperparameters: \", model.best_params_)"
   ]
  },
  {
   "cell_type": "code",
   "execution_count": 96,
   "metadata": {},
   "outputs": [
    {
     "name": "stdout",
     "output_type": "stream",
     "text": [
      "[[5722 1169]\n",
      " [ 122  488]]\n",
      "Sensitivity: \t0.8\n",
      "Specificity: \t0.83\n",
      "ROC:    \t 0.88\n"
     ]
    }
   ],
   "source": [
    "# predict churn on test data\n",
    "y_pred = model.predict(X_test)\n",
    "\n",
    "# create onfusion matrix\n",
    "cm = confusion_matrix(y_test, y_pred)\n",
    "print(cm)\n",
    "\n",
    "# check sensitivity and specificity\n",
    "sensitivity, specificity, _ = sensitivity_specificity_support(y_test, y_pred, average='binary')\n",
    "print(\"Sensitivity: \\t\", round(sensitivity, 2), \"\\n\", \"Specificity: \\t\", round(specificity, 2), sep='')\n",
    "\n",
    "# check area under curve\n",
    "y_pred_prob = model.predict_proba(X_test)[:, 1]\n",
    "print(\"ROC:    \\t\", round(roc_auc_score(y_test, y_pred_prob),2))"
   ]
  },
  {
   "cell_type": "markdown",
   "metadata": {},
   "source": [
    "## Step 12: Extract the intercept and the coefficients from the logistic model"
   ]
  },
  {
   "cell_type": "code",
   "execution_count": 97,
   "metadata": {},
   "outputs": [],
   "source": [
    "logistic_model = model.best_estimator_.named_steps['logistic']"
   ]
  },
  {
   "cell_type": "code",
   "execution_count": 98,
   "metadata": {},
   "outputs": [],
   "source": [
    "intercept_df = pd.DataFrame(logistic_model.intercept_.reshape((1,1)), columns = ['intercept'])"
   ]
  },
  {
   "cell_type": "code",
   "execution_count": 99,
   "metadata": {},
   "outputs": [],
   "source": [
    "# coefficients\n",
    "coefficients = logistic_model.coef_.reshape((9, 1)).tolist()\n",
    "coefficients = [val for sublist in coefficients for val in sublist]\n",
    "coefficients = [round(coefficient, 3) for coefficient in coefficients]\n",
    "\n",
    "logistic_features = list(X_train.columns)\n",
    "coefficients_df = pd.DataFrame(logistic_model.coef_, columns=logistic_features)"
   ]
  },
  {
   "cell_type": "code",
   "execution_count": 100,
   "metadata": {},
   "outputs": [
    {
     "data": {
      "text/html": [
       "<div>\n",
       "<style scoped>\n",
       "    .dataframe tbody tr th:only-of-type {\n",
       "        vertical-align: middle;\n",
       "    }\n",
       "\n",
       "    .dataframe tbody tr th {\n",
       "        vertical-align: top;\n",
       "    }\n",
       "\n",
       "    .dataframe thead th {\n",
       "        text-align: right;\n",
       "    }\n",
       "</style>\n",
       "<table border=\"1\" class=\"dataframe\">\n",
       "  <thead>\n",
       "    <tr style=\"text-align: right;\">\n",
       "      <th></th>\n",
       "      <th>intercept</th>\n",
       "      <th>total_ic_mou_8</th>\n",
       "      <th>total_rech_amt_diff</th>\n",
       "      <th>total_og_mou_8</th>\n",
       "      <th>arpu_8</th>\n",
       "      <th>roam_ic_mou_8</th>\n",
       "      <th>roam_og_mou_8</th>\n",
       "      <th>std_ic_mou_8</th>\n",
       "      <th>av_rech_amt_data_8</th>\n",
       "      <th>std_og_mou_8</th>\n",
       "    </tr>\n",
       "  </thead>\n",
       "  <tbody>\n",
       "    <tr>\n",
       "      <th>0</th>\n",
       "      <td>-1.534054</td>\n",
       "      <td>-1.556931</td>\n",
       "      <td>-0.776262</td>\n",
       "      <td>-1.586756</td>\n",
       "      <td>0.247201</td>\n",
       "      <td>0.002567</td>\n",
       "      <td>0.189862</td>\n",
       "      <td>0.381219</td>\n",
       "      <td>-0.797625</td>\n",
       "      <td>1.039803</td>\n",
       "    </tr>\n",
       "  </tbody>\n",
       "</table>\n",
       "</div>"
      ],
      "text/plain": [
       "   intercept  total_ic_mou_8  total_rech_amt_diff  total_og_mou_8    arpu_8  roam_ic_mou_8  roam_og_mou_8  std_ic_mou_8  av_rech_amt_data_8  std_og_mou_8\n",
       "0  -1.534054       -1.556931            -0.776262       -1.586756  0.247201       0.002567       0.189862      0.381219           -0.797625      1.039803"
      ]
     },
     "execution_count": 100,
     "metadata": {},
     "output_type": "execute_result"
    }
   ],
   "source": [
    "\n",
    "# concatenate dataframes\n",
    "coefficients = pd.concat([intercept_df, coefficients_df], axis=1)\n",
    "coefficients"
   ]
  },
  {
   "cell_type": "markdown",
   "metadata": {},
   "source": [
    "## Model Evaluation"
   ]
  },
  {
   "cell_type": "markdown",
   "metadata": {},
   "source": [
    "### Logistic Regression:\n",
    "* Accuracy : 0.81\n",
    "* Sensitivity/Recall : 0.84\n",
    "\n",
    "### PCA:\n",
    "* Accuracy :  0.89\n",
    "* Sensitivity: \t0.83\n",
    "* Specificity: \t0.8\n",
    "\n",
    "### Random Forest:\n",
    "* Accuracy:   \t 0.89\n",
    "* Sensitivity: \t0.45\n",
    "* Specificity: \t0.99"
   ]
  },
  {
   "cell_type": "markdown",
   "metadata": {},
   "source": [
    "##  Summary and Recommendations"
   ]
  },
  {
   "cell_type": "markdown",
   "metadata": {},
   "source": [
    "* Telecom company needs to give more discounts to the roaming rates. So that the customers who are using services from a roaming zone will remain in the same network.\n",
    "* Telecom company should stop additional charges for STD rates. They can use the same local calls rates to STD rates as well to attract the customers. \n",
    "* Give additional data on data pack recharges for 8th Month. \n",
    "* Talk to the 8% churned customers to know his concern to swith over to the different network. \n",
    "* Based on the customer's last recharge/data, if the usuage is less then previous month, then talk to the customer to know his conerns.  "
   ]
  },
  {
   "cell_type": "code",
   "execution_count": null,
   "metadata": {},
   "outputs": [],
   "source": []
  }
 ],
 "metadata": {
  "kernelspec": {
   "display_name": "Python 3",
   "language": "python",
   "name": "python3"
  },
  "language_info": {
   "codemirror_mode": {
    "name": "ipython",
    "version": 3
   },
   "file_extension": ".py",
   "mimetype": "text/x-python",
   "name": "python",
   "nbconvert_exporter": "python",
   "pygments_lexer": "ipython3",
   "version": "3.7.3"
  }
 },
 "nbformat": 4,
 "nbformat_minor": 2
}
